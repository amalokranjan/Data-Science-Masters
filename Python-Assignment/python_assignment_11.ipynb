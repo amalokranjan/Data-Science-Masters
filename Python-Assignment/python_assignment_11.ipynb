{
 "cells": [
  {
   "cell_type": "markdown",
   "id": "8345eb10-c706-46ba-aad1-0035d8ea78dd",
   "metadata": {},
   "source": [
    "### Q1. Which function is used to open a file? What are the different modes of opening a file? Explain each mode of file opening.\n",
    "    The open() function is used to open a file in Python. When you open a file, you can specify the mode in which you want to open it. The different modes of opening a file in Python are:\n",
    "\n",
    "    'r' (read mode) - This mode is used when you only want to read the contents of a file. When you open a file in read mode, you cannot write to it or make any changes to it. If the file does not exist, a FileNotFoundError will be raised.\n",
    "    'w' (write mode) - This mode is used when you want to write to a file. If the file already exists, its contents will be overwritten. If the file does not exist, a new file will be created.\n",
    "    'a' (append mode) - This mode is used when you want to add new content to the end of an existing file. If the file does not exist, a new file will be created. In append mode, you can only write to the end of the file, and not anywhere else.\n",
    "    'x' (exclusive creation mode) - This mode is used when you want to create a new file and write to it, but only if the file does not already exist. If the file already exists, a FileExistsError will be raised.\n",
    "    'b' (binary mode) - This mode is used when you want to read or write binary data to a file. When opening a file in binary mode, you should use 'rb' to read binary data and 'wb' to write binary data.\n",
    "    't' (text mode) - This mode is used when you want to read or write text data to a file. When opening a file in text mode, you should use 'rt' to read text data and 'wt' to write text data."
   ]
  },
  {
   "cell_type": "markdown",
   "id": "dc8989f5-6982-43e7-b9cc-60834df6cd12",
   "metadata": {},
   "source": [
    "### Q2. Why close() function is used? Why is it important to close a file?\n",
    "    The close() function is used to close an open file. When a file is opened in Python using the open function, the operating system reserves some resources to handle the file. This can include memory, disk space, file handles, etc. When you are done with a file and no longer need to read from or write to it, it is important to close it so that these resources can be released and made available for other applications.\n",
    "    In addition to freeing up resources, closing a file also ensures that any changes you made to the file are saved and written to disk. This makes it a good practice to close a file after you have finished using it.\n",
    "    If you forget to close a file, the operating system will eventually release the resources that were reserved for it when the Python process ends. However, it's still a good idea to close files explicitly, as it makes the intent of your code more clear and reduces the chance of resource leaks or other unintended consequences."
   ]
  },
  {
   "cell_type": "markdown",
   "id": "0406fc22-6333-4d27-8d00-f3726e41a8d2",
   "metadata": {},
   "source": [
    "### Q3. Write a python program to create a text file. Write ‘I want to become a Data Scientist’ in that file. Then close the file. Open this file and read the content of the file."
   ]
  },
  {
   "cell_type": "code",
   "execution_count": 2,
   "id": "9d3940b9-f0f5-47d2-a7ca-39a6728b6090",
   "metadata": {},
   "outputs": [
    {
     "name": "stdout",
     "output_type": "stream",
     "text": [
      "I want to become a Data Scientist\n"
     ]
    }
   ],
   "source": [
    "\n",
    "\n",
    "file = open(\"file.txt\", \"w\")\n",
    "file.write(\"I want to become a Data Scientist\")\n",
    "file.close()\n",
    "\n",
    "\n",
    "file = open(\"file.txt\", \"r\")\n",
    "contents = file.read()\n",
    "print(contents)\n",
    "\n",
    "file.close()"
   ]
  },
  {
   "cell_type": "markdown",
   "id": "1e39021f-a1c9-49e8-8ecc-d56b59de54c3",
   "metadata": {},
   "source": [
    "### Q4. Explain the following with python code: read(), readline() and readlines()."
   ]
  },
  {
   "cell_type": "code",
   "execution_count": 3,
   "id": "d71da182-f02f-4c7a-8ba4-14d7776b2337",
   "metadata": {},
   "outputs": [
    {
     "name": "stdout",
     "output_type": "stream",
     "text": [
      "I want to become a Data Scientist\n"
     ]
    }
   ],
   "source": [
    "\n",
    "# read(): The read() method reads the entire file and returns the content as a single string. This method can be used to read small files.\n",
    "\n",
    "# Open file in read mode\n",
    "file = open('file.txt', 'r')\n",
    "\n",
    "# Read the entire file\n",
    "content = file.read()\n",
    "\n",
    "# Print the content\n",
    "print(content)\n",
    "\n",
    "# Close the file\n",
    "file.close()\n"
   ]
  },
  {
   "cell_type": "markdown",
   "id": "0b63df7a-19a0-4447-ac9b-9b9f0507784f",
   "metadata": {},
   "source": [
    "\n",
    "# readline(): The readline() method reads a single line from the file and returns it as a string. This method can be used to read large files one line at a time.\n",
    "\n",
    "# Open file in read mode\n",
    "file = open('file.txt', 'r')\n",
    "\n",
    "# Read the first line\n",
    "line1 = file.readline()\n",
    "\n",
    "# Print the line\n",
    "print(line1)\n",
    "\n",
    "# Read the second line\n",
    "line2 = file.readline()\n",
    "\n",
    "# Print the line\n",
    "print(line2)\n",
    "\n",
    "# Close the file\n",
    "file.close()\n"
   ]
  },
  {
   "cell_type": "code",
   "execution_count": 4,
   "id": "d6fc4fef-507b-4e06-878c-60be3d5072eb",
   "metadata": {},
   "outputs": [
    {
     "name": "stdout",
     "output_type": "stream",
     "text": [
      "['I want to become a Data Scientist']\n"
     ]
    }
   ],
   "source": [
    "\n",
    "# readlines(): The readlines() method reads all the lines of the file and returns them as a list of strings. \n",
    "# This method can be used to read large files and store them in a list for further processing.\n",
    "\n",
    "# Open file in read mode\n",
    "file = open('file.txt', 'r')\n",
    "\n",
    "# Read all the lines\n",
    "lines = file.readlines()\n",
    "\n",
    "# Print the lines\n",
    "print(lines)\n",
    "\n",
    "# Close the file\n",
    "file.close()\n"
   ]
  },
  {
   "cell_type": "markdown",
   "id": "606a84d2-fd04-45be-99e7-5859a79cdd62",
   "metadata": {},
   "source": [
    "### Q5. Explain why with statement is used with open(). What is the advantage of using with statement and open() together?\n",
    "    In Python, the with statement is often used with the open function to handle files. The with statement provides a convenient way to manage the resources that a program uses, including files.\n",
    "    When you open a file with the open function, you need to close the file after you're done with it. If you forget to close the file, it can cause problems, such as data corruption or resource leaks.\n",
    "    The with statement provides a convenient way to ensure that resources are properly managed. When you use the with statement with the open function, you don't have to worry about manually closing the file. The with statement automatically closes the file for you, even if an exception is raised within the with block."
   ]
  },
  {
   "cell_type": "markdown",
   "id": "eb0150b2-0765-4289-9fef-bebc1bf5863e",
   "metadata": {},
   "source": [
    "### Q6. Explain the write() and writelines() functions. Give a suitable example.\n",
    "    In Python, the write() function is used to write a string or bytes object to a file. The writelines() function is used to write a list of strings to a file."
   ]
  },
  {
   "cell_type": "code",
   "execution_count": 16,
   "id": "279b84cf-14bf-475d-a8eb-643d45a9f8cf",
   "metadata": {},
   "outputs": [
    {
     "name": "stdout",
     "output_type": "stream",
     "text": [
      "This is a sample text.\n",
      "First line.\n",
      "Second line.\n",
      "Third line.\n",
      "\n"
     ]
    }
   ],
   "source": [
    "# example\n",
    "\n",
    "# Open a file in write mode\n",
    "file = open(\"example.txt\", \"r+\")\n",
    "\n",
    "# Write a string to the file\n",
    "file.write(\"This is a sample text.\\n\")\n",
    "\n",
    "# Write a list of strings to the file\n",
    "lines = [\"First line.\\n\", \"Second line.\\n\", \"Third line.\\n\"]\n",
    "file.writelines(lines)\n",
    "\n",
    "file.seek(0)\n",
    "# Read the entire file\n",
    "content = file.read()\n",
    "\n",
    "# Print the content\n",
    "print(content)\n",
    "\n",
    "# Close the file\n",
    "file.close()"
   ]
  },
  {
   "cell_type": "code",
   "execution_count": null,
   "id": "b86f0970-1d1c-4bc6-8c28-ca8a1da2e676",
   "metadata": {},
   "outputs": [],
   "source": []
  }
 ],
 "metadata": {
  "kernelspec": {
   "display_name": "Python 3 (ipykernel)",
   "language": "python",
   "name": "python3"
  },
  "language_info": {
   "codemirror_mode": {
    "name": "ipython",
    "version": 3
   },
   "file_extension": ".py",
   "mimetype": "text/x-python",
   "name": "python",
   "nbconvert_exporter": "python",
   "pygments_lexer": "ipython3",
   "version": "3.10.8"
  }
 },
 "nbformat": 4,
 "nbformat_minor": 5
}
