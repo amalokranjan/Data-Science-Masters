{
 "cells": [
  {
   "cell_type": "markdown",
   "id": "9041b8e7-df3c-4055-8fa7-b4821d4f84fb",
   "metadata": {},
   "source": [
    "Q1. Who developed Python Programming Language?\n",
    "\n",
    "   Guido van Rossum"
   ]
  },
  {
   "cell_type": "markdown",
   "id": "58ac2231-5579-454b-8706-242eb436035e",
   "metadata": {},
   "source": [
    "Q2. Which type of Programming does Python support?\n",
    "\n",
    "   Object Oriented and structured programming"
   ]
  },
  {
   "cell_type": "markdown",
   "id": "56d73c99-a11b-4f55-9264-378804d6fd18",
   "metadata": {},
   "source": [
    "Q3. Is Python case sensitive when dealing with identifier?\n",
    "\n",
    "    yes, it is case sensitive"
   ]
  },
  {
   "cell_type": "markdown",
   "id": "537b7a50-224a-4f06-910a-2a0be4d612d1",
   "metadata": {},
   "source": [
    "Q4. What is the correct extension of the Python file?\n",
    "\n",
    "    .py"
   ]
  },
  {
   "cell_type": "markdown",
   "id": "4f219235-5ff8-44f0-bf6d-4f9315489f20",
   "metadata": {},
   "source": [
    "Q5. Is python code compiled or interpreted?\n",
    "\n",
    "    Python is an interpreted language, which means the source code of a Python program is converted into bytecode then it is executed by the Python virtual machine"
   ]
  },
  {
   "cell_type": "markdown",
   "id": "e8e43285-2e8d-41f4-abb2-3c76346d920a",
   "metadata": {},
   "source": [
    "Q6. Name a few blocks of code used to define in Python language?\n",
    "\n",
    "    In Python, code is organized into blocks, which are defined by their indentation level."
   ]
  },
  {
   "cell_type": "markdown",
   "id": "3c68b18b-4c8f-4416-a335-bf4f0a38c45c",
   "metadata": {},
   "source": [
    "Q7. State a character used to give single-line comments in Python?\n",
    "\n",
    "    '#' symbol is used to write single-line comment in Python"
   ]
  },
  {
   "cell_type": "markdown",
   "id": "1ea6000b-30ee-4854-9f01-060c457f64df",
   "metadata": {},
   "source": [
    "Q8. Mention functions which can help us to find the version of python that we are currently working on?\n",
    "\n",
    "    sys.version"
   ]
  },
  {
   "cell_type": "markdown",
   "id": "2caa5420-72bf-46be-a8ce-280c38cca5f9",
   "metadata": {},
   "source": [
    "Q9. Python supports the creation of anonymous functions at runtime, using a construct called \n",
    "    Lambda"
   ]
  },
  {
   "cell_type": "markdown",
   "id": "feae11e6-c994-4381-965f-6ef518593784",
   "metadata": {},
   "source": [
    "Q10. What does pip stand for python?\n",
    "\n",
    "    Preferred Installer Program"
   ]
  },
  {
   "cell_type": "markdown",
   "id": "6db75d99-f3da-413f-931d-997646526c58",
   "metadata": {},
   "source": [
    "Q 11. Mention a few built-in functions in python?\n",
    "\n",
    "    print(): The print() function is used to display output on the screen. It can be used to print strings, numbers, and other data types.\n",
    "    type(): The type() function is used to determine the data type of a variable or value.\n",
    "    input(): The input() function is used to accept user input from the keyboard."
   ]
  },
  {
   "cell_type": "markdown",
   "id": "c167a446-fb0a-4b79-8bc1-3ea1603624aa",
   "metadata": {},
   "source": [
    "Q 12. What is the maximum possible length of an identifier in Python?\n",
    "\n",
    "    79 characters"
   ]
  },
  {
   "cell_type": "markdown",
   "id": "48ee0552-7ad8-467d-86ea-ac063f4a5c4e",
   "metadata": {},
   "source": [
    "Q 13. What are the benefits of using Python?\n",
    "\n",
    "    Simple and Easy to learn\n",
    "    Portable and Extensible\n",
    "    Object-Oriented Programming\n",
    "    "
   ]
  },
  {
   "cell_type": "markdown",
   "id": "13da44eb-94d7-4765-b99d-88582490c2e9",
   "metadata": {},
   "source": [
    "Q 14. How is memory managed in Python?\n",
    "\n",
    "    Memory management in Python involves a private heap containing all Python objects and data structures. The management of this private heap is ensured internally by the Python memory manager."
   ]
  },
  {
   "cell_type": "markdown",
   "id": "48d0a140-5107-432d-9460-4f70bb46ce0a",
   "metadata": {},
   "source": [
    "Q 15. How to install Python on Windows and set path variables?\n",
    "\n",
    "    First, we need to locate where the python is being installed after downloading it. Press WINDOWS key and search for “Python”, you will get something like this:Click on open file location and you will be in a location where Python is installed, Copy the location path from the top by clicking over it. Now, we have to add the above-copied path as a variable so that windows can recognize. Search for “Environmental Variables”, you will see something like this: Click on that( Now click the “Environmental Variables” button"
   ]
  },
  {
   "cell_type": "markdown",
   "id": "98ea1e7c-acbd-45d5-8395-ed07435ec2f9",
   "metadata": {},
   "source": [
    "Q 16. Is indentation required in Python?\n",
    "\n",
    "    Indentation refers to the spaces at the beginning of a code line. Where in other programming languages the indentation in code is for readability only, for Python is very important. Python uses indentation to indicate a block of code"
   ]
  },
  {
   "cell_type": "code",
   "execution_count": null,
   "id": "fea3bda5-058e-4b20-bd85-e169692f79bf",
   "metadata": {},
   "outputs": [],
   "source": []
  }
 ],
 "metadata": {
  "kernelspec": {
   "display_name": "Python 3 (ipykernel)",
   "language": "python",
   "name": "python3"
  },
  "language_info": {
   "codemirror_mode": {
    "name": "ipython",
    "version": 3
   },
   "file_extension": ".py",
   "mimetype": "text/x-python",
   "name": "python",
   "nbconvert_exporter": "python",
   "pygments_lexer": "ipython3",
   "version": "3.10.8"
  }
 },
 "nbformat": 4,
 "nbformat_minor": 5
}
