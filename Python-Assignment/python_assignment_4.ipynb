{
 "cells": [
  {
   "cell_type": "markdown",
   "id": "8be27c25-6015-44fc-b314-d2c3a4730a8c",
   "metadata": {},
   "source": [
    "### Q1. Which keyword is used to create a function?\n",
    "    'def' keyword is used to create a function.\n"
   ]
  },
  {
   "cell_type": "code",
   "execution_count": 9,
   "id": "94a614b1-13dc-4829-85e8-8aff9bfbacd5",
   "metadata": {},
   "outputs": [
    {
     "name": "stdout",
     "output_type": "stream",
     "text": [
      "[1, 3, 5, 7, 9, 11, 13, 15, 17, 19, 21, 23, 25]\n"
     ]
    }
   ],
   "source": [
    "\n",
    "#  Create a function to return a list of odd numbers in the range of 1 to 25\n",
    "\n",
    "def fun() :\n",
    "    return [i for i in range(1,26) if i&1]\n",
    "\n",
    "print(fun())"
   ]
  },
  {
   "cell_type": "markdown",
   "id": "e6fecdf4-95e0-4f18-8a5b-f8bf88e84b3d",
   "metadata": {},
   "source": [
    "### Q2. Why *args and **kwargs is used in some fuctions?\n",
    "    args and **kwargs are used in functions to allow them to accept a varying number of arguments. *args is used to send a non-keyworded variable length argument list to the function. It allows you to pass a variable number of arguments to a function, which will be received as a tuple. **kwargs is used to pass keyworded variable length of arguments to a function, which will be received as a dictionary. "
   ]
  },
  {
   "cell_type": "code",
   "execution_count": 11,
   "id": "98a0eafe-cc76-4f39-8aec-69392b7693ba",
   "metadata": {},
   "outputs": [
    {
     "name": "stdout",
     "output_type": "stream",
     "text": [
      "15\n",
      "Name: Alok\n",
      "Age: 21\n",
      "City: Patna\n"
     ]
    }
   ],
   "source": [
    "# Create a function each for *args and **kwargs to demonstrate their use.\n",
    "\n",
    "# Example function using *args\n",
    "def sum_numbers(*args) :\n",
    "    total = 0\n",
    "    for num in args:\n",
    "        total += num\n",
    "    return total\n",
    "\n",
    "\n",
    "print(sum_numbers(1, 2, 3, 4, 5))\n",
    "\n",
    "\n",
    "# Example function using **kwargs\n",
    "def print_person_info(**kwargs) :\n",
    "    print(\"Name:\", kwargs['name'])\n",
    "    print(\"Age:\", kwargs['age'])\n",
    "    print(\"City:\", kwargs['city'])\n",
    "\n",
    "person_info = {'name': 'Alok', 'age': 21, 'city': 'Patna'}\n",
    "print_person_info(**person_info) \n"
   ]
  },
  {
   "cell_type": "markdown",
   "id": "8c3d8ff6-38e3-47a1-bb1b-45c21e6ddba5",
   "metadata": {},
   "source": [
    "### Q3. What is an iterator in python? Name the method used to initialise the iterator object and the method used for iteration. Use these methods to print the first five elements of the given list [2, 4, 6, 8, 10, 12, 14, 16, 18, 20]."
   ]
  },
  {
   "cell_type": "markdown",
   "id": "5bdc0ae8-cfa3-4c90-8a13-70c4f70e86f6",
   "metadata": {},
   "source": [
    "    An iterator in Python is an object that implements the iterator protocol, which consists of two methods: iter() and next(). The iter() method is used to initialize the iterator object, and the next() method is used for iteration."
   ]
  },
  {
   "cell_type": "code",
   "execution_count": 13,
   "id": "e6ea81fc-39a3-478d-9b4a-cad093b3446e",
   "metadata": {},
   "outputs": [
    {
     "name": "stdout",
     "output_type": "stream",
     "text": [
      "The first 5 numbers:\n",
      "2\n",
      "4\n",
      "6\n",
      "8\n",
      "10\n"
     ]
    }
   ],
   "source": [
    "#example\n",
    "numbers = [2, 4, 6, 8, 10, 12, 14, 16, 18, 20]\n",
    "\n",
    "class TopNumbers:\n",
    "    def __init__(self, limit):\n",
    "        self.limit = limit\n",
    "        self.counter = 0\n",
    "\n",
    "    def __iter__(self):\n",
    "        return self\n",
    "\n",
    "    def __next__(self):\n",
    "        if self.counter < self.limit:\n",
    "            number = numbers[self.counter]\n",
    "            self.counter += 1\n",
    "            return number\n",
    "        else:\n",
    "            raise StopIteration\n",
    "\n",
    "print(\"The first 5 numbers:\")\n",
    "for number in TopNumbers(5):\n",
    "    print(number)\n"
   ]
  },
  {
   "cell_type": "markdown",
   "id": "982c93ad-1f21-4495-b477-a7ba6c098211",
   "metadata": {},
   "source": [
    "### Q4. What is a generator function in python? Why yield keyword is used? Give an example of a generator function."
   ]
  },
  {
   "cell_type": "markdown",
   "id": "5c4a5f5f-9eed-4cc7-80ec-2c4fd1d885c4",
   "metadata": {},
   "source": [
    "    A generator function in Python is a function that returns a generator iterator. The yield keyword is used to return a value from a generator function and pause the function's execution. When the generator function is called again, it resumes execution from where it left off, using the saved state from the last call to yield."
   ]
  },
  {
   "cell_type": "code",
   "execution_count": 16,
   "id": "fd42aae0-d1c4-469e-8552-6ca36406a4c0",
   "metadata": {},
   "outputs": [
    {
     "name": "stdout",
     "output_type": "stream",
     "text": [
      "Fibonacci sequence:\n",
      "0\n",
      "1\n",
      "1\n",
      "2\n",
      "3\n"
     ]
    }
   ],
   "source": [
    "def fibonacci_sequence(num):\n",
    "    a, b = 0, 1\n",
    "    count = 1\n",
    "    while count <= num:\n",
    "        yield a\n",
    "        a, b = b, a + b\n",
    "        count += 1\n",
    "\n",
    "fib = fibonacci_sequence(5)\n",
    "\n",
    "print(\"Fibonacci sequence:\")\n",
    "for number in fib:\n",
    "    print(number)       "
   ]
  },
  {
   "cell_type": "markdown",
   "id": "3be6f963-98d8-432b-b185-5a0e2116255d",
   "metadata": {},
   "source": [
    "### Q5. Create a generator function for prime numbers less than 1000. Use the next() method to print the first 20 prime numbers."
   ]
  },
  {
   "cell_type": "code",
   "execution_count": 18,
   "id": "76f2b155-922a-4698-a671-842386b859ff",
   "metadata": {},
   "outputs": [
    {
     "name": "stdout",
     "output_type": "stream",
     "text": [
      "2\n",
      "3\n",
      "5\n",
      "7\n",
      "11\n",
      "13\n",
      "17\n",
      "19\n",
      "23\n",
      "29\n",
      "31\n",
      "37\n",
      "41\n",
      "43\n",
      "47\n",
      "53\n",
      "59\n",
      "61\n",
      "67\n",
      "71\n"
     ]
    }
   ],
   "source": [
    "def primes():\n",
    "    num = 2\n",
    "    while True:\n",
    "        if all(num % i != 0 for i in range(2, int(num ** 0.5) + 1)):\n",
    "            yield num\n",
    "        num += 1\n",
    "\n",
    "# Create a generator object for prime numbers\n",
    "prime_generator = primes()\n",
    "\n",
    "# Print the first 20 prime numbers using next() method\n",
    "for i in range(20):\n",
    "    print(next(prime_generator))\n"
   ]
  },
  {
   "cell_type": "code",
   "execution_count": null,
   "id": "b3bbd00d-dd96-49a9-8596-0ba908cef69b",
   "metadata": {},
   "outputs": [],
   "source": []
  }
 ],
 "metadata": {
  "kernelspec": {
   "display_name": "Python 3 (ipykernel)",
   "language": "python",
   "name": "python3"
  },
  "language_info": {
   "codemirror_mode": {
    "name": "ipython",
    "version": 3
   },
   "file_extension": ".py",
   "mimetype": "text/x-python",
   "name": "python",
   "nbconvert_exporter": "python",
   "pygments_lexer": "ipython3",
   "version": "3.10.8"
  }
 },
 "nbformat": 4,
 "nbformat_minor": 5
}
