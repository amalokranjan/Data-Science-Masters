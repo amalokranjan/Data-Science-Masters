{
 "cells": [
  {
   "cell_type": "markdown",
   "id": "bbecd26b-2a74-4b2d-b231-9ef84a4e30b2",
   "metadata": {},
   "source": [
    "### Q1. Create a function which will take a list as an argument and return the product of all the numbers after creating a flat list."
   ]
  },
  {
   "cell_type": "code",
   "execution_count": 4,
   "id": "2a07b854-db15-4ac1-8521-d526685f03ad",
   "metadata": {},
   "outputs": [
    {
     "name": "stdout",
     "output_type": "stream",
     "text": [
      "2315262738624675840\n"
     ]
    }
   ],
   "source": [
    "\n",
    "\n",
    "def product(lis: List) :\n",
    "    aux_list = []\n",
    "    \n",
    "    def fun(ls) :\n",
    "        for i in ls :\n",
    "            if type(i) in (tuple,list,set,dict) :\n",
    "                fun(i)\n",
    "            elif type(i) == int :\n",
    "                aux_list.append(i)\n",
    "                \n",
    "    fun(lis)\n",
    "    \n",
    "    res = 1\n",
    "    \n",
    "    for i in aux_list :\n",
    "        res *= i\n",
    "        \n",
    "    return res\n",
    "\n",
    "list1 = [1,2,3,4, [44,55,66, True], False, (34,56,78,89,34), {1,2,3,3,2,1}, {1:34, \"key2\": [55, 67, 78, 89], 4: (45,\n",
    "22, 61, 34)}, [56, 'data science'], 'Machine Learning']\n",
    "\n",
    "print(product(list1))\n"
   ]
  },
  {
   "cell_type": "markdown",
   "id": "3fad9a28-89fe-4de5-be90-b78f93f4e06d",
   "metadata": {},
   "source": [
    "### Q2. Write a python program for encrypting a message sent to you by your friend. The logic of encryption should be such that, for a the output should be z. For b, the output should be y. For c, the output should be x respectively. Also, the whitespace should be replaced with a dollar sign. Keep the punctuation marks unchanged."
   ]
  },
  {
   "cell_type": "code",
   "execution_count": 9,
   "id": "7489b1d0-67b8-4207-98c9-3e4b06a5b058",
   "metadata": {},
   "outputs": [
    {
     "name": "stdin",
     "output_type": "stream",
     "text": [
      " I want to become a Data Scientist.\n"
     ]
    },
    {
     "name": "stdout",
     "output_type": "stream",
     "text": [
      "i$want$to$become$a$data$scientist.\n"
     ]
    }
   ],
   "source": [
    "\n",
    "def encrypt(string) :\n",
    "    string = string.lower()\n",
    "    encryption_dic = {}\n",
    "    \n",
    "    for i in range(26) :\n",
    "        encryption_dic[str(i+ord('a'))] = str((25-i) + ord('a'))\n",
    "    encryption_dic[\" \"] = \"$\"\n",
    "    enc_string = \"\"\n",
    "    \n",
    "    for c in string :\n",
    "        if c in encryption_dic :\n",
    "            enc_string += encryption_dic[c]\n",
    "        else :\n",
    "            enc_string += c\n",
    "                           \n",
    "    return enc_string\n",
    "                           \n",
    "input_sentence = input()\n",
    "print(encrypt(input_sentence))"
   ]
  },
  {
   "cell_type": "code",
   "execution_count": null,
   "id": "e5448bff-6100-4ad8-b77c-c1eebaa0814a",
   "metadata": {},
   "outputs": [],
   "source": []
  }
 ],
 "metadata": {
  "kernelspec": {
   "display_name": "Python 3 (ipykernel)",
   "language": "python",
   "name": "python3"
  },
  "language_info": {
   "codemirror_mode": {
    "name": "ipython",
    "version": 3
   },
   "file_extension": ".py",
   "mimetype": "text/x-python",
   "name": "python",
   "nbconvert_exporter": "python",
   "pygments_lexer": "ipython3",
   "version": "3.10.8"
  }
 },
 "nbformat": 4,
 "nbformat_minor": 5
}
