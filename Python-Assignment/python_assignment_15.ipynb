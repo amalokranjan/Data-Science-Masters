{
 "cells": [
  {
   "cell_type": "markdown",
   "id": "4eaeb5b6-c7f6-4610-be47-7c5c98d1a209",
   "metadata": {},
   "source": [
    "### Q1. What is multiprocessing in python? Why is it useful?\n",
    "    Multiprocessing is a module in Python that allows for the creation of processes, which can be used to parallelize the execution of code. This means that instead of running code sequentially on a single processor, multiprocessing enables code to be executed on multiple processors at the same time.\n",
    "    Multiprocessing is useful for tasks that can be broken down into smaller sub-tasks that can be executed independently, such as data processing, image manipulation, and scientific computing. By distributing the work across multiple processors, you can speed up the execution of your code and reduce the time it takes to complete."
   ]
  },
  {
   "cell_type": "markdown",
   "id": "c9cc0fac-9b39-40db-9d40-7375f365728a",
   "metadata": {},
   "source": [
    "### Q2. What are the differences between multiprocessing and multithreading?\n",
    "    Multiprocessing and multithreading are two different ways of achieving parallelism in programming, but they have some key differences.\n",
    "    \n",
    "    1. Process vs Threads : Multiprocessing involves the creation of multiple processes, which are independent and run in separate memory spaces. Each process has its own system resources, such as memory and file handles. On the other hand, multithreading involves creation multiple threads within a single process, all of which share the same memory space.\n",
    "    2. Communication: Because processes run in separate memory spaces, communication between processes is more complex and requires more overhead. In multiprocessing, processes communicate using methods such as pipes or queues. In multithreading, communication between threads is easier since they share the same memory space and can access the same variables and data structures directly.\n",
    "    3. Performance: Because processes run independently and have their own system resouces, multiprocessing can take advantage of multiple CPUs and achieve true parallelism. This can result in significant performance improvements for CPU- bound tasks. In contrast, multithreading is more suitable for I/O operations and keep the CPU busy.\n",
    "    4. Complexity: Multiprocessing is generally considered more complex than multithreading since it involves managing multiple processes with their own system resources. This can make debugging and error handling more challenging. In contrast, multithreadinng is generally considered easier to implement and manages since all threads share the same memory space."
   ]
  },
  {
   "cell_type": "markdown",
   "id": "79711295-c58c-454d-9b8c-372516bedd66",
   "metadata": {},
   "source": [
    "### Q3. Write a python code to create a process using the multprocessing module."
   ]
  },
  {
   "cell_type": "code",
   "execution_count": 2,
   "id": "b2ed9964-11c0-4b47-be24-9831006d4720",
   "metadata": {},
   "outputs": [
    {
     "name": "stdout",
     "output_type": "stream",
     "text": [
      "fun process started\n",
      "fun process finished\n",
      "Main process finished\n"
     ]
    }
   ],
   "source": [
    "\n",
    "import multiprocessing\n",
    "\n",
    "def fun() :\n",
    "    print(\"fun process started\")\n",
    "    print(\"fun process finished\")\n",
    "    \n",
    "if __name__ == \"__main__\" :\n",
    "    p = multiprocessing.Process(target = fun)\n",
    "    \n",
    "    p.start()\n",
    "    p.join()\n",
    "    print(\"Main process finished\")"
   ]
  },
  {
   "cell_type": "markdown",
   "id": "fa2695cb-e26f-4495-9259-54e05b4b7871",
   "metadata": {},
   "source": [
    "### Q4. What is a multiprocessing pool in python? Why is it used?\n",
    "    A multiprocessing pool in Python is a way to create a group of worker processes that can execute a given function or set of functions in parallel. The pool manages a set of worker processes, and provides a simple way to distribute work among them.\n",
    "    The multiprocessing.pool class in Pyhton provides an easy-to-use interface for creating and managing the worker processes, and provides methods for submitting tasks to the pool and retrieving results."
   ]
  },
  {
   "cell_type": "markdown",
   "id": "4c6d4a25-e222-4c22-93cf-caa7c65022d6",
   "metadata": {},
   "source": [
    "### Q5. How can we create a pool of worker processes in python using the multiprocessing module?"
   ]
  },
  {
   "cell_type": "code",
   "execution_count": 1,
   "id": "90ea1012-de25-4499-b44c-d091b6c23f90",
   "metadata": {},
   "outputs": [
    {
     "name": "stdout",
     "output_type": "stream",
     "text": [
      "[0, 2, 4, 6, 8, 10, 12, 14, 16, 18]\n"
     ]
    }
   ],
   "source": [
    "# We can create a pool of worker processes in python using the multiprocessing module,\n",
    "# you can use the Pool class.\n",
    "\n",
    "import multiprocessing\n",
    "\n",
    "def worker(num) :\n",
    "    result = num * 2\n",
    "    return result\n",
    "\n",
    "if __name__ == \"__main__\" :\n",
    "    with multiprocessing.Pool(processes=4) as pool :\n",
    "        results = [pool.apply_async(worker, args=(i,)) for i in range(10)]\n",
    "        \n",
    "        output = [result.get() for result in results]\n",
    "        print(output)"
   ]
  },
  {
   "cell_type": "markdown",
   "id": "3821420e-be73-497a-b23a-16479b1ddbeb",
   "metadata": {},
   "source": [
    "### Q6. Write a python program to create 4 processes, each process should print a different number using the multiprocessing module in python."
   ]
  },
  {
   "cell_type": "code",
   "execution_count": 7,
   "id": "bc0aa66b-dd41-45ea-8084-90a7e70d1759",
   "metadata": {},
   "outputs": [
    {
     "name": "stdout",
     "output_type": "stream",
     "text": [
      "Number:  0\n",
      "Number:  1\n",
      "Number:  2\n",
      "Number:  3\n",
      "All processes completed\n"
     ]
    }
   ],
   "source": [
    "import multiprocessing\n",
    "\n",
    "def print_number(number) :\n",
    "    print(\"Number: \", number)\n",
    "    \n",
    "if __name__ == \"__main__\" :\n",
    "    process_list = []\n",
    "    for i in range(4) :\n",
    "        p = multiprocessing.Process(target=print_number, args=(i,))\n",
    "        process_list.append(p)\n",
    "        p.start()\n",
    "        p.join()\n",
    "        \n",
    "    print(\"All processes completed\")"
   ]
  },
  {
   "cell_type": "code",
   "execution_count": null,
   "id": "90eb2383-30e6-4a0f-9b8a-d22143f6d0e4",
   "metadata": {},
   "outputs": [],
   "source": []
  }
 ],
 "metadata": {
  "kernelspec": {
   "display_name": "Python 3 (ipykernel)",
   "language": "python",
   "name": "python3"
  },
  "language_info": {
   "codemirror_mode": {
    "name": "ipython",
    "version": 3
   },
   "file_extension": ".py",
   "mimetype": "text/x-python",
   "name": "python",
   "nbconvert_exporter": "python",
   "pygments_lexer": "ipython3",
   "version": "3.10.8"
  }
 },
 "nbformat": 4,
 "nbformat_minor": 5
}
