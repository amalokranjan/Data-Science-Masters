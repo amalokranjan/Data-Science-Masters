{
 "cells": [
  {
   "cell_type": "markdown",
   "id": "8075825d-3664-46ae-b099-df2e00da76ac",
   "metadata": {},
   "source": [
    "### Q1. You are writing code for a company. The requirement of the company is that you create a python function that will check whether the password entered by the user is correct or not. The function should take the password as input and return the string “Valid Password” if the entered password follows the below-given password guidelines else it should return “Invalid Password”.\n",
    "    Note: 1. The Password should contain at least two uppercase letters and at least two lowercase letters.\n",
    "    2. The Password should contain at least a number and three special characters.\n",
    "    3. The length of the password should be 10 characters long."
   ]
  },
  {
   "cell_type": "code",
   "execution_count": 10,
   "id": "9c1ba399-b8d7-43f2-a6c2-446aa900de97",
   "metadata": {},
   "outputs": [
    {
     "name": "stdin",
     "output_type": "stream",
     "text": [
      " ABCdef###0\n"
     ]
    },
    {
     "name": "stdout",
     "output_type": "stream",
     "text": [
      "Valid Password\n"
     ]
    }
   ],
   "source": [
    "\n",
    "import re\n",
    "\n",
    "def check_password(password):\n",
    "    \n",
    "    if len(password) != 10:\n",
    "        return \"Invalid Password\"\n",
    "    \n",
    "   \n",
    "    if len(re.findall(r'[A-Z]', password)) < 2:\n",
    "        return \"Invalid Password\"\n",
    "    \n",
    "    if len(re.findall(r'[a-z]', password)) < 2:\n",
    "        return \"Invalid Password\"\n",
    "    \n",
    "\n",
    "    if len(re.findall(r'\\d', password)) < 1:\n",
    "        return \"Invalid Password\"\n",
    "    \n",
    "    if len(re.findall(r'[!@#$%^&*()_+]', password)) < 3:\n",
    "        return \"Invalid Password\"\n",
    "    \n",
    "    return \"Valid Password\"\n",
    "\n",
    "\n",
    "pas = input()\n",
    "print(check_password(pas))"
   ]
  },
  {
   "cell_type": "markdown",
   "id": "8c3faa80-603a-48df-a30b-6af180ad101b",
   "metadata": {},
   "source": [
    "### Q2. Solve the below-given questions using at least one of the following:\n",
    "1. Lambda function\n",
    "2. Filter function\n",
    "3. Map function\n",
    "4. List Comprehension"
   ]
  },
  {
   "cell_type": "code",
   "execution_count": 13,
   "id": "1885c501-bc5e-4d69-a674-8c7359562a8b",
   "metadata": {},
   "outputs": [
    {
     "name": "stdout",
     "output_type": "stream",
     "text": [
      "True\n",
      "False\n"
     ]
    }
   ],
   "source": [
    "# Check if the string starts with a particular letter using Lambda function\n",
    "\n",
    "starts_with_p = lambda s : s.startswith(\"p\")\n",
    "\n",
    "\n",
    "print(starts_with_p(\"pwskills\"))\n",
    "print(starts_with_p(\"xyz\"))"
   ]
  },
  {
   "cell_type": "code",
   "execution_count": 15,
   "id": "fb4420be-da83-4d7d-ab26-b7d7d5c25dc2",
   "metadata": {},
   "outputs": [
    {
     "name": "stdout",
     "output_type": "stream",
     "text": [
      "['alok']\n"
     ]
    }
   ],
   "source": [
    "#check if the string starts with a particular letter using Filter \n",
    "l = [\"alok\", \"mohan\", \"sohan\", \"rohan\"]\n",
    "\n",
    "filtered_list = list(filter(lambda x: x.startswith(\"a\"),l))\n",
    "\n",
    "print(filtered_list)"
   ]
  },
  {
   "cell_type": "code",
   "execution_count": 16,
   "id": "bacd3a35-363a-476a-aa0f-725ebe78b981",
   "metadata": {},
   "outputs": [
    {
     "name": "stdout",
     "output_type": "stream",
     "text": [
      "True\n"
     ]
    }
   ],
   "source": [
    "# Check if the string is numeric using lambda function\n",
    "\n",
    "inumeric = lambda num: num.isnumeric()\n",
    "\n",
    "print(inumeric(\"1234\"))"
   ]
  },
  {
   "cell_type": "code",
   "execution_count": 17,
   "id": "93e734df-b8a0-4d6f-b3d4-e3763a5ae5ff",
   "metadata": {},
   "outputs": [
    {
     "name": "stdout",
     "output_type": "stream",
     "text": [
      "[('orange', 80), ('mango', 99), ('grapes', 1000)]\n"
     ]
    }
   ],
   "source": [
    "# Sort a list of tuples having fruit names and their quantity. [(\"mango\",99),(\"orange\",80), (\"grapes\", 1000)] (using lambda function)\n",
    "\n",
    "\n",
    "fruits = [(\"mango\",99),(\"orange\",80), (\"grapes\", 1000)]\n",
    "\n",
    "sorted_fruits = sorted(fruits, key = lambda x: x[1])\n",
    "print(sorted_fruits)"
   ]
  },
  {
   "cell_type": "code",
   "execution_count": 18,
   "id": "141704e1-407d-4e84-a81a-d39d1f50e5de",
   "metadata": {},
   "outputs": [
    {
     "name": "stdout",
     "output_type": "stream",
     "text": [
      "[1, 4, 9, 16, 25, 36, 49, 64, 81, 100]\n"
     ]
    }
   ],
   "source": [
    "# Find the squares of numbers from 1 to 10(using list comprehension)\n",
    "\n",
    "squares = [i**2 for i in range(1,11)]\n",
    "\n",
    "print(squares)"
   ]
  },
  {
   "cell_type": "code",
   "execution_count": 19,
   "id": "8aed6915-7ce6-4e97-ac0f-f812cd1995cd",
   "metadata": {},
   "outputs": [
    {
     "name": "stdout",
     "output_type": "stream",
     "text": [
      "[1.0, 1.2599210498948732, 1.4422495703074083, 1.5874010519681994, 1.7099759466766968, 1.8171205928321397, 1.912931182772389, 2.0, 2.080083823051904, 2.154434690031884]\n"
     ]
    }
   ],
   "source": [
    "# Find the cube root of numbers from 1 to 10 (using list comprehension)\n",
    "\n",
    "cube_root = [i ** (1/3) for i in range(1,11)]\n",
    "\n",
    "print(cube_root)"
   ]
  },
  {
   "cell_type": "code",
   "execution_count": 20,
   "id": "86abc2f3-b6e3-4317-b9f5-822f3bdf8045",
   "metadata": {},
   "outputs": [
    {
     "name": "stdout",
     "output_type": "stream",
     "text": [
      "True\n",
      "False\n"
     ]
    }
   ],
   "source": [
    "# Check if a given number is even (using lambda function)\n",
    "\n",
    "check_even = lambda x: x&1 == 0\n",
    "\n",
    "print(check_even(2))\n",
    "print(check_even(3))"
   ]
  },
  {
   "cell_type": "code",
   "execution_count": 21,
   "id": "a82fe96f-8029-417b-aac6-fe34883c3d39",
   "metadata": {},
   "outputs": [
    {
     "name": "stdout",
     "output_type": "stream",
     "text": [
      "[1, 3, 5, 7, 9]\n"
     ]
    }
   ],
   "source": [
    "# Filter odd numbers from the given list. (using filter function)\n",
    "\n",
    "l = [1,2,3,4,5,6,7,8,9,10]\n",
    "\n",
    "odd_num = list(filter(lambda x: x&1 == 1, l))\n",
    "\n",
    "print(odd_num)"
   ]
  },
  {
   "cell_type": "code",
   "execution_count": null,
   "id": "3c7627c9-c8da-4082-ab05-130f88a83adc",
   "metadata": {},
   "outputs": [],
   "source": [
    "# Sort a list of integers into positive and negative integers lists."
   ]
  }
 ],
 "metadata": {
  "kernelspec": {
   "display_name": "Python 3 (ipykernel)",
   "language": "python",
   "name": "python3"
  },
  "language_info": {
   "codemirror_mode": {
    "name": "ipython",
    "version": 3
   },
   "file_extension": ".py",
   "mimetype": "text/x-python",
   "name": "python",
   "nbconvert_exporter": "python",
   "pygments_lexer": "ipython3",
   "version": "3.10.8"
  }
 },
 "nbformat": 4,
 "nbformat_minor": 5
}
