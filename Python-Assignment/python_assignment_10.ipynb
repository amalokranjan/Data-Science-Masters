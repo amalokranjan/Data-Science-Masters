{
 "cells": [
  {
   "cell_type": "markdown",
   "id": "830d7852-994c-458b-a17a-d6df67c5cef9",
   "metadata": {},
   "source": [
    "### Q1, Create a vehicle class with an init method having instance variables as name_of_vehicle, max_speed and average_of_vehicle."
   ]
  },
  {
   "cell_type": "code",
   "execution_count": 1,
   "id": "90d64ff1-84ca-42b2-8184-3b8b283fc5f8",
   "metadata": {},
   "outputs": [
    {
     "name": "stdout",
     "output_type": "stream",
     "text": [
      "Car\n",
      "140\n",
      "50\n"
     ]
    }
   ],
   "source": [
    "class vehicle :\n",
    "    \n",
    "    def __init__(self, name_of_vehicle, max_speed, average_of_vehicle) :\n",
    "        self.name_of_vehicle = name_of_vehicle\n",
    "        self.max_speed = max_speed\n",
    "        self.average_of_vehicle = average_of_vehicle\n",
    "        \n",
    "car = vehicle(\"Car\",140,50)\n",
    "\n",
    "print(car.name_of_vehicle)\n",
    "print(car.max_speed)\n",
    "print(car.average_of_vehicle)"
   ]
  },
  {
   "cell_type": "markdown",
   "id": "f2a1ad73-ec4d-4d08-a3c4-f2af0d414b1e",
   "metadata": {},
   "source": [
    "### Q2. Create a child class car from the vehicle class created in Que 1, which will inherit the vehicle class. Create a method named seating_capacity which takes capacity as an argument and returns the name of the vehicle and its seating capacity."
   ]
  },
  {
   "cell_type": "code",
   "execution_count": 3,
   "id": "94bc0d0e-b254-47b0-b586-1d7a53806bb7",
   "metadata": {},
   "outputs": [
    {
     "name": "stdout",
     "output_type": "stream",
     "text": [
      "The name of the vehicle is  my_car has a seating capacity of 6\n"
     ]
    }
   ],
   "source": [
    "class car(vehicle) :\n",
    "    def seating_capacity(self, capacity) :\n",
    "        return f\"The name of the vehicle is  {self.name_of_vehicle} has a seating capacity of {capacity}\"\n",
    "    \n",
    "car_obj = car(\"my_car\",150,50)\n",
    "\n",
    "print(car_obj.seating_capacity(6))"
   ]
  },
  {
   "cell_type": "markdown",
   "id": "088dc9a9-5bfe-41aa-8f48-1a5f79350a1b",
   "metadata": {},
   "source": [
    "### Q3. What is multiple inheritance? Write a python code to demonstrate multiple inheritance.\n",
    "    Multiple inheritance is a feature of object-oriented programming that allows a class to inherit attributes and behaviors from multiple parent classes. This allows for greater flexibility and code reuse, as a single class can inherit the characteristics of multiple existing classes."
   ]
  },
  {
   "cell_type": "code",
   "execution_count": 4,
   "id": "4156b03f-628d-497d-b257-e20b22234e65",
   "metadata": {},
   "outputs": [
    {
     "name": "stdout",
     "output_type": "stream",
     "text": [
      "Engine started.\n",
      "Fuel tank filled with 50 liters.\n",
      "Car is driving.\n"
     ]
    }
   ],
   "source": [
    "\n",
    "class Engine:\n",
    "    def start(self):\n",
    "        return \"Engine started.\"\n",
    "\n",
    "class FuelSystem:\n",
    "    def fill_fuel(self, fuel_amount):\n",
    "        return f\"Fuel tank filled with {fuel_amount} liters.\"\n",
    "\n",
    "class Car(Engine, FuelSystem):\n",
    "    def drive(self):\n",
    "        return \"Car is driving.\"\n",
    "\n",
    "my_car = Car()\n",
    "print(my_car.start()) \n",
    "print(my_car.fill_fuel(50))  \n",
    "print(my_car.drive())  "
   ]
  },
  {
   "cell_type": "markdown",
   "id": "d11f9d56-d930-40c1-b79f-967ac0e52e21",
   "metadata": {},
   "source": [
    "### Q4. What are getter and setter in python? Create a class and create a getter and a setter method in this class.\n",
    "    Getters and setters are methods in object-oriented programming that allow you to control access to the attributes of an object. A getter method is used to retrieve the value of an attribute, while a setter method is used to set the value of an attribute."
   ]
  },
  {
   "cell_type": "code",
   "execution_count": 5,
   "id": "b2d67349-1995-4b87-a03b-53f25a3644f2",
   "metadata": {},
   "outputs": [
    {
     "name": "stdout",
     "output_type": "stream",
     "text": [
      "John Doe\n",
      "Jane Doe\n",
      "30\n",
      "35\n"
     ]
    }
   ],
   "source": [
    "\n",
    "class Person:\n",
    "    def __init__(self, name, age):\n",
    "        self._name = name\n",
    "        self._age = age\n",
    "\n",
    "    @property\n",
    "    def name(self):\n",
    "        return self._name\n",
    "\n",
    "    @name.setter\n",
    "    def name(self, value):\n",
    "        if not isinstance(value, str):\n",
    "            raise TypeError(\"Name must be a string.\")\n",
    "        self._name = value\n",
    "\n",
    "    @property\n",
    "    def age(self):\n",
    "        return self._age\n",
    "\n",
    "    @age.setter\n",
    "    def age(self, value):\n",
    "        if not isinstance(value, int):\n",
    "            raise TypeError(\"Age must be an integer.\")\n",
    "        self._age = value\n",
    "\n",
    "person = Person(\"John Doe\", 30)\n",
    "print(person.name) \n",
    "person.name = \"Jane Doe\"\n",
    "print(person.name) \n",
    "print(person.age)  \n",
    "person.age = 35\n",
    "print(person.age)  "
   ]
  },
  {
   "cell_type": "code",
   "execution_count": null,
   "id": "6c3de271-ff8b-42c2-bbf1-66b940f45be8",
   "metadata": {},
   "outputs": [],
   "source": []
  }
 ],
 "metadata": {
  "kernelspec": {
   "display_name": "Python 3 (ipykernel)",
   "language": "python",
   "name": "python3"
  },
  "language_info": {
   "codemirror_mode": {
    "name": "ipython",
    "version": 3
   },
   "file_extension": ".py",
   "mimetype": "text/x-python",
   "name": "python",
   "nbconvert_exporter": "python",
   "pygments_lexer": "ipython3",
   "version": "3.10.8"
  }
 },
 "nbformat": 4,
 "nbformat_minor": 5
}
