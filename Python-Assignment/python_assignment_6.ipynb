{
 "cells": [
  {
   "cell_type": "markdown",
   "id": "8a9631c5-5ce1-4655-94d4-70e7bfe4070b",
   "metadata": {},
   "source": [
    "### Q1. Explain Class and Object with respect to Object-Oriented Programming. Give a suitable example.\n",
    "    A class is a blueprint for creating objects that encapsulate data and the operations that can be performed on that data.\n",
    "    An object is an instance of a class, which means it is created using the blueprint provided by the class."
   ]
  },
  {
   "cell_type": "code",
   "execution_count": 1,
   "id": "a8596250-4408-4f0c-91fa-70aa7b3d9280",
   "metadata": {},
   "outputs": [
    {
     "name": "stdout",
     "output_type": "stream",
     "text": [
      "Make: Ford\n",
      "Model: Mustang\n",
      "Year: 2022\n"
     ]
    }
   ],
   "source": [
    "class Car:\n",
    "    def __init__(self, make, model, year):\n",
    "        self.make = make\n",
    "        self.model = model\n",
    "        self.year = year\n",
    "\n",
    "    def get_make(self):\n",
    "        return self.make\n",
    "\n",
    "    def get_model(self):\n",
    "        return self.model\n",
    "\n",
    "    def get_year(self):\n",
    "        return self.year\n",
    "\n",
    "my_car = Car(\"Ford\", \"Mustang\", 2022)\n",
    "\n",
    "print(\"Make:\", my_car.get_make())\n",
    "print(\"Model:\", my_car.get_model())\n",
    "print(\"Year:\", my_car.get_year())\n"
   ]
  },
  {
   "cell_type": "markdown",
   "id": "21421f9f-af1e-40da-9f7d-e950a4091dc9",
   "metadata": {},
   "source": [
    "### Q2. Name the four pillars of OOPs.\n",
    "    Encapsulation\n",
    "    Inheritance\n",
    "    Polymorphism\n",
    "    Abstraction"
   ]
  },
  {
   "cell_type": "markdown",
   "id": "a328746d-0388-4723-94d0-051de9e14ebd",
   "metadata": {},
   "source": [
    "### Q3. Explain why the __init__() function is used. Give a suitable example.\n",
    "    The __init__() function is a special method that is called when an object is created. It is used to initialize the object's attributes with the default or user-specified values."
   ]
  },
  {
   "cell_type": "code",
   "execution_count": 2,
   "id": "0ee6a251-875c-4992-99c9-4cc4eeabb192",
   "metadata": {},
   "outputs": [
    {
     "name": "stdout",
     "output_type": "stream",
     "text": [
      "Make: Ford\n",
      "Model: Mustang\n",
      "Year: 2022\n"
     ]
    }
   ],
   "source": [
    "# Example for init() function\n",
    "\n",
    "class Car:\n",
    "    def __init__(self, make, model, year):\n",
    "        self.make = make\n",
    "        self.model = model\n",
    "        self.year = year\n",
    "\n",
    "    def get_make(self):\n",
    "        return self.make\n",
    "\n",
    "    def get_model(self):\n",
    "        return self.model\n",
    "\n",
    "    def get_year(self):\n",
    "        return self.year\n",
    "\n",
    "my_car = Car(\"Ford\", \"Mustang\", 2022)\n",
    "\n",
    "print(\"Make:\", my_car.get_make())\n",
    "print(\"Model:\", my_car.get_model())\n",
    "print(\"Year:\", my_car.get_year())\n"
   ]
  },
  {
   "cell_type": "markdown",
   "id": "b517c953-2cce-4d8e-897e-46dde58ddb75",
   "metadata": {},
   "source": [
    "### Q4. Why self is used in OOPs?\n",
    "    In Object-Oriented Programming (OOP), self is used as a reference to the instance of a class. It is a way to refer to the object that is currently being worked on."
   ]
  },
  {
   "cell_type": "markdown",
   "id": "5d944996-d092-4af7-a97a-a5311245b5a9",
   "metadata": {},
   "source": [
    "### Q5. What is inheritance? Give an example for each type of inheritance.\n",
    "    Inheritance is a concept in object-oriented programming that allows a new class to be based on an existing class. The new class inherits the properties and methods of the existing class, making it easier to reuse code and create hierarchies of related classes.\n",
    "    There are four types of inheritance:"
   ]
  },
  {
   "cell_type": "code",
   "execution_count": 3,
   "id": "2a0b3bbb-ac9d-4111-92ae-b9584a3e6f61",
   "metadata": {},
   "outputs": [
    {
     "name": "stdout",
     "output_type": "stream",
     "text": [
      "This is the parent method\n",
      "This is the child method\n"
     ]
    }
   ],
   "source": [
    "# Single Inheritance: In this type of inheritance, a child class inherits the properties and methods of only one parent class.\n",
    "\n",
    "class Parent:\n",
    "    def parentMethod(self):\n",
    "        print('This is the parent method')\n",
    "\n",
    "class Child(Parent):\n",
    "    def childMethod(self):\n",
    "        print('This is the child method')\n",
    "\n",
    "c = Child()\n",
    "c.parentMethod()\n",
    "c.childMethod()\n"
   ]
  },
  {
   "cell_type": "code",
   "execution_count": 4,
   "id": "553df458-3b77-40cc-bece-14f0b4169ac7",
   "metadata": {},
   "outputs": [
    {
     "name": "stdout",
     "output_type": "stream",
     "text": [
      "This is parent 1 method\n",
      "This is parent 2 method\n",
      "This is the child method\n"
     ]
    }
   ],
   "source": [
    "# Multiple Inheritance: In this type of inheritance, a child class can inherit the properties and methods of multiple parent classes.\n",
    "\n",
    "class Parent1:\n",
    "    def method1(self):\n",
    "        print('This is parent 1 method')\n",
    "\n",
    "class Parent2:\n",
    "    def method2(self):\n",
    "        print('This is parent 2 method')\n",
    "\n",
    "class Child(Parent1, Parent2):\n",
    "    def childMethod(self):\n",
    "        print('This is the child method')\n",
    "\n",
    "c = Child()\n",
    "c.method1()\n",
    "c.method2()\n",
    "c.childMethod()\n"
   ]
  },
  {
   "cell_type": "code",
   "execution_count": 5,
   "id": "ce63570b-4e22-4768-a070-c7782748bf79",
   "metadata": {},
   "outputs": [
    {
     "name": "stdout",
     "output_type": "stream",
     "text": [
      "This is the grandparent method\n",
      "This is the parent method\n",
      "This is the child method\n"
     ]
    }
   ],
   "source": [
    "# Multilevel Inheritance: In this type of inheritance, a child class inherits from a parent class, which in turn inherits from another parent class.\n",
    "\n",
    "class GrandParent:\n",
    "    def grandParentMethod(self):\n",
    "        print('This is the grandparent method')\n",
    "\n",
    "class Parent(GrandParent):\n",
    "    def parentMethod(self):\n",
    "        print('This is the parent method')\n",
    "\n",
    "class Child(Parent):\n",
    "    def childMethod(self):\n",
    "        print('This is the child method')\n",
    "\n",
    "c = Child()\n",
    "c.grandParentMethod()\n",
    "c.parentMethod()\n",
    "c.childMethod()\n"
   ]
  },
  {
   "cell_type": "code",
   "execution_count": 6,
   "id": "f14e4585-7512-4cc8-81a0-a6ba7069c7ef",
   "metadata": {},
   "outputs": [
    {
     "name": "stdout",
     "output_type": "stream",
     "text": [
      "This is the parent method\n",
      "This is the child1 method\n",
      "This is the parent method\n",
      "This is the child2 method\n"
     ]
    }
   ],
   "source": [
    "# Hierarchical Inheritance: In this type of inheritance, multiple child classes inherit from the same parent class.\n",
    "\n",
    "class Parent:\n",
    "    def parentMethod(self):\n",
    "        print('This is the parent method')\n",
    "\n",
    "class Child1(Parent):\n",
    "    def child1Method(self):\n",
    "        print('This is the child1 method')\n",
    "\n",
    "class Child2(Parent):\n",
    "    def child2Method(self):\n",
    "        print('This is the child2 method')\n",
    "\n",
    "c1 = Child1()\n",
    "c1.parentMethod()\n",
    "c1.child1Method()\n",
    "\n",
    "c2 = Child2()\n",
    "c2.parentMethod()\n",
    "c2.child2Method()\n"
   ]
  },
  {
   "cell_type": "code",
   "execution_count": null,
   "id": "1db20d7b-4480-405e-9fbd-664c3ccbbbe5",
   "metadata": {},
   "outputs": [],
   "source": []
  }
 ],
 "metadata": {
  "kernelspec": {
   "display_name": "Python 3 (ipykernel)",
   "language": "python",
   "name": "python3"
  },
  "language_info": {
   "codemirror_mode": {
    "name": "ipython",
    "version": 3
   },
   "file_extension": ".py",
   "mimetype": "text/x-python",
   "name": "python",
   "nbconvert_exporter": "python",
   "pygments_lexer": "ipython3",
   "version": "3.10.8"
  }
 },
 "nbformat": 4,
 "nbformat_minor": 5
}
