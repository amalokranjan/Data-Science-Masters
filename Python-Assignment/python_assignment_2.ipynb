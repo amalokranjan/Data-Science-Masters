{
 "cells": [
  {
   "cell_type": "markdown",
   "id": "da34669f-2e24-4f9d-bafc-e17c7d79280e",
   "metadata": {},
   "source": [
    "Q1. "
   ]
  },
  {
   "cell_type": "code",
   "execution_count": 1,
   "id": "508b519a-b37f-4987-8dd1-eb0aacd53a39",
   "metadata": {},
   "outputs": [
    {
     "name": "stdin",
     "output_type": "stream",
     "text": [
      "Enter your marks:  60\n"
     ]
    },
    {
     "name": "stdout",
     "output_type": "stream",
     "text": [
      "Your grade is: C\n"
     ]
    }
   ],
   "source": [
    "marks = int(input(\"Enter your marks: \"))\n",
    "\n",
    "if marks > 90 :\n",
    "    print(\"Your grade is: A\")\n",
    "elif marks > 80 :\n",
    "    print(\"Your grade is: B\")\n",
    "elif marks >= 60 :\n",
    "    print(\"Your grade is: C\")\n",
    "else :\n",
    "    print(\"Your grade is: D\")\n",
    "    "
   ]
  },
  {
   "cell_type": "markdown",
   "id": "60a1193c-35a6-4aba-888d-7ce5ffca7137",
   "metadata": {},
   "source": [
    "Q2."
   ]
  },
  {
   "cell_type": "code",
   "execution_count": 3,
   "id": "c529c92c-bacb-41ea-b6ec-e5e6a3670f57",
   "metadata": {},
   "outputs": [
    {
     "name": "stdin",
     "output_type": "stream",
     "text": [
      "Enter the cost price of the bike:  5000\n"
     ]
    },
    {
     "name": "stdout",
     "output_type": "stream",
     "text": [
      "Road tax to be paid:  250.0\n"
     ]
    }
   ],
   "source": [
    "price = int(input(\"Enter the cost price of the bike: \"))\n",
    "\n",
    "if price > 100000 :\n",
    "    print(\"Road tax to be paid: \", price * 15 / 100)\n",
    "elif price > 50000 :\n",
    "    print(\"Road tax to be paid: \", price * 10 / 100)\n",
    "else :\n",
    "    print(\"Road tax to be paid: \", price * 5 /100)"
   ]
  },
  {
   "cell_type": "code",
   "execution_count": 4,
   "id": "aa8d7655-c32b-48bd-ac8b-65741e6e3802",
   "metadata": {},
   "outputs": [
    {
     "name": "stdin",
     "output_type": "stream",
     "text": [
      "Enter your city:  Agra\n"
     ]
    },
    {
     "name": "stdout",
     "output_type": "stream",
     "text": [
      "Taj Mahal\n"
     ]
    }
   ],
   "source": [
    "# Question 3\n",
    "\n",
    "my_dict = {\"Delhi\": \"Red Fort\", \"Agra\": \"Taj Mahal\", \"Jaipur\": \"Jal Mahal\"}\n",
    "\n",
    "city = input(\"Enter your city: \")\n",
    "print(my_dict[city])"
   ]
  },
  {
   "cell_type": "code",
   "execution_count": 6,
   "id": "a4bc418c-3f27-4051-83f3-2db5494a28fc",
   "metadata": {},
   "outputs": [
    {
     "name": "stdin",
     "output_type": "stream",
     "text": [
      "Enter a number:  60\n"
     ]
    },
    {
     "name": "stdout",
     "output_type": "stream",
     "text": [
      "2\n"
     ]
    }
   ],
   "source": [
    "# Question 4\n",
    "\n",
    "num = int(input(\"Enter a number: \"))\n",
    "count = 0\n",
    "\n",
    "while num > 10 :\n",
    "    num /= 3\n",
    "    count += 1\n",
    "    \n",
    "print(count)"
   ]
  },
  {
   "cell_type": "markdown",
   "id": "3a4e6add-1bcf-4120-ac9b-283195cd87fc",
   "metadata": {},
   "source": [
    "Q5. Why and when to use while Loop in Python give a detailed description with example.\n",
    "\n",
    "    While loops are useful in situations where we want to repeat a block of code until a specific condition is met. For example, we might use a while loop to repeatedly ask the user for input until they enter a valid value."
   ]
  },
  {
   "cell_type": "code",
   "execution_count": 8,
   "id": "321f3a15-8d24-4f50-84cf-b28dc046f596",
   "metadata": {},
   "outputs": [
    {
     "name": "stdin",
     "output_type": "stream",
     "text": [
      "Enter a number between 1 and 10:  24\n",
      "Enter a number between 1 and 10:  3\n"
     ]
    },
    {
     "name": "stdout",
     "output_type": "stream",
     "text": [
      "You entered: 3\n"
     ]
    }
   ],
   "source": [
    "# Here's an example of a while loop in Python that asks the user to enter a number between 1 and 10:\n",
    "\n",
    "num = 0\n",
    "while num < 1 or num > 10:\n",
    "    num = int(input(\"Enter a number between 1 and 10: \"))\n",
    "\n",
    "print(\"You entered:\", num)\n"
   ]
  },
  {
   "cell_type": "code",
   "execution_count": 10,
   "id": "6406644b-8090-4975-ae0f-72109909821f",
   "metadata": {},
   "outputs": [
    {
     "name": "stdout",
     "output_type": "stream",
     "text": [
      "*\n",
      "**\n",
      "***\n",
      "****\n",
      "*****\n",
      "******\n",
      "*******\n",
      "********\n",
      "*********\n",
      "**********\n",
      "===================\n",
      "*****\n",
      "****\n",
      "***\n",
      "**\n",
      "*\n",
      "====================\n",
      "    *\n",
      "   **\n",
      "  ***\n",
      " ****\n",
      "*****\n"
     ]
    }
   ],
   "source": [
    "# Q6. Use nested while loop to print 3 different patterns\n",
    "# Pattern 1:\n",
    "i = 1\n",
    "while i <= 10:\n",
    "    j = 1\n",
    "    while j <= i:\n",
    "        print(\"*\", end=\"\")\n",
    "        j += 1\n",
    "    print(\"\")\n",
    "    i += 1\n",
    "    \n",
    "print(\"===================\")\n",
    "# Pattern 2:\n",
    "i = 5\n",
    "while i >= 1:\n",
    "    j = i\n",
    "    while j >= 1:\n",
    "        print(\"*\", end=\"\")\n",
    "        j -= 1\n",
    "    print(\"\")\n",
    "    i -= 1\n",
    "\n",
    "print(\"====================\")\n",
    "# Pattern 3:\n",
    "i = 5\n",
    "while i >= 1:\n",
    "    j = 1\n",
    "    while j <= 5:\n",
    "        if j >= i:\n",
    "            print(\"*\", end=\"\")\n",
    "        else:\n",
    "            print(\" \", end=\"\")\n",
    "        j += 1\n",
    "    print(\"\")\n",
    "    i -= 1"
   ]
  },
  {
   "cell_type": "code",
   "execution_count": 11,
   "id": "039c1432-af45-47e4-9d7a-89d8ba9e4ae3",
   "metadata": {},
   "outputs": [
    {
     "name": "stdout",
     "output_type": "stream",
     "text": [
      "10\n",
      "9\n",
      "8\n",
      "7\n",
      "6\n",
      "5\n",
      "4\n",
      "3\n",
      "2\n",
      "1\n"
     ]
    }
   ],
   "source": [
    "# Q7. Reverse a while loop to display numbers from 10 to 1\n",
    "\n",
    "num = 10 \n",
    "\n",
    "while num > 0 :\n",
    "    print(num)\n",
    "    num -= 1"
   ]
  },
  {
   "cell_type": "code",
   "execution_count": null,
   "id": "246ed585-fdf9-4d69-9e99-46192d149a06",
   "metadata": {},
   "outputs": [],
   "source": []
  }
 ],
 "metadata": {
  "kernelspec": {
   "display_name": "Python 3 (ipykernel)",
   "language": "python",
   "name": "python3"
  },
  "language_info": {
   "codemirror_mode": {
    "name": "ipython",
    "version": 3
   },
   "file_extension": ".py",
   "mimetype": "text/x-python",
   "name": "python",
   "nbconvert_exporter": "python",
   "pygments_lexer": "ipython3",
   "version": "3.10.8"
  }
 },
 "nbformat": 4,
 "nbformat_minor": 5
}
