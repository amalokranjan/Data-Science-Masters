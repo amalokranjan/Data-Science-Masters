{
 "cells": [
  {
   "cell_type": "markdown",
   "id": "5fa712a5-1363-4c9d-8fc7-f93254629357",
   "metadata": {},
   "source": [
    "Q1. What are the characterstics of the tuples? Is tuple immutable?\n",
    "\n",
    "    Characterstics of the tuples are:\n",
    "    1. Immutable: Once a tuple is created, its elements cannot be changed or modified.\n",
    "    2. Ordered: Like lists, tuples are ordered, which means that the elements in a tuple are stored in a specific order and can be accessed using indexing.\n",
    "    3. Heterogeneous: Tuples can contain elements of different data types, such as integers, strings, and even other tuples.\n",
    "    4. Nesting: Tuples can be nested inside other tuples, allowing you to create complex data structures.\n",
    "    \n",
    "    tuples are immutable."
   ]
  },
  {
   "cell_type": "code",
   "execution_count": 3,
   "id": "72dccc20-a144-4845-8198-5fb33db82fe6",
   "metadata": {},
   "outputs": [
    {
     "name": "stdout",
     "output_type": "stream",
     "text": [
      "3\n",
      "4\n"
     ]
    }
   ],
   "source": [
    "# Q2. What are the two tuple methods in python? Give an example of each method.\n",
    "# Give a reason why tuples have only two in-built methods as compared to lists.\n",
    "\n",
    "#   tuples have only two built-in methods: count() and index()\n",
    "\n",
    "# 1. count(): This method returns the number of times a specified element appears in a tuple.\n",
    "# 2. index(): This method returns the index of the first occurrence of a specified \n",
    "# Here's an example:\n",
    "my_tuple = (1, 2, 3, 2, 4, 2)\n",
    "count_of_twos = my_tuple.count(2)\n",
    "index_of_four = my_tuple.index(4)\n",
    "print(count_of_twos)\n",
    "print(index_of_four)"
   ]
  },
  {
   "cell_type": "code",
   "execution_count": 4,
   "id": "ebbd3a9f-30e1-4153-89eb-a492c7703999",
   "metadata": {},
   "outputs": [
    {
     "name": "stdout",
     "output_type": "stream",
     "text": [
      "{1, 2, 3, 4}\n"
     ]
    }
   ],
   "source": [
    "# Q3. Which collection datatypes in python do not allow duplicate items?\n",
    "#    set datatypes in python do not allow duplicate items.\n",
    "\n",
    "# Write a code using a set to remove duplicates from the given list.\n",
    "#   list = [1,1,1,2,1,3,1,4,2,1,2,2,2,3,2,4,3,1,3,2,3,3,3,4,4,1,4,2,4,3,4,4]\n",
    "\n",
    "my_list = [1,1,1,2,1,3,1,4,2,1,2,2,2,3,2,4,3,1,3,2,3,3,3,4,4,1,4,2,4,3,4,4]\n",
    "\n",
    "my_set = set(my_list)\n",
    "\n",
    "print(my_set)"
   ]
  },
  {
   "cell_type": "code",
   "execution_count": 8,
   "id": "1b9cc24f-7488-4f62-acb9-e2ef719ef1ab",
   "metadata": {},
   "outputs": [
    {
     "name": "stdout",
     "output_type": "stream",
     "text": [
      "{1, 2, 3, 4, 5, 6, 7}\n",
      "{1, 2, 3}\n",
      "{1, 2, 3, 4, 5, 6, 7}\n"
     ]
    }
   ],
   "source": [
    "# Q4. Explain the difference between the union() and update() methods of a set.\n",
    "#     Give an example of each method.\n",
    "\n",
    "#     1.The union() method returns a new set that contains all the elements from both \n",
    "#       the original set and one or more additional sets.The original sets are not modified\n",
    "#       by the union() method.\n",
    "\n",
    "#   Here's an example\n",
    "\n",
    "set1 = {1, 2, 3}\n",
    "set2 = {3, 4, 5}\n",
    "set3 = {5, 6, 7}\n",
    "\n",
    "result_set = set1.union(set2, set3)\n",
    "\n",
    "print(result_set)\n",
    "print(set1)  \n",
    "\n",
    "\n",
    "# 2.The update() method modifies the original set by adding all the elements \n",
    "#  from one or more additional sets.\n",
    "\n",
    "#   Here's an example:\n",
    "\n",
    "set1 = {1, 2, 3}\n",
    "set2 = {3, 4, 5}\n",
    "set3 = {5, 6, 7}\n",
    "\n",
    "set1.update(set2, set3)\n",
    "\n",
    "print(set1) \n"
   ]
  },
  {
   "cell_type": "code",
   "execution_count": 6,
   "id": "a3e705c2-4f53-4f8f-a1c2-42ebb0ddac05",
   "metadata": {},
   "outputs": [
    {
     "name": "stdout",
     "output_type": "stream",
     "text": [
      "Alok\n"
     ]
    }
   ],
   "source": [
    "# Q5. What is a dictionary? Give an example.\n",
    "#    A dictionary is a built-in data type that represents a collection of key-value pairs.\n",
    "#    Each key-value pair is called an item, and the keys in a dictionary must be \n",
    "#    unique and immutable (such as strings or numbers).\n",
    "\n",
    "#    Here's an example:\n",
    "\n",
    "my_dict = {\"name\": \"Alok\", \"age\": 21, \"city\": \"Patna\"}\n",
    "print(my_dict[\"name\"])\n",
    "\n",
    "#    dictionary is a unordered data structure."
   ]
  },
  {
   "cell_type": "code",
   "execution_count": 7,
   "id": "74d38234-0861-49d7-9183-0e71c647be72",
   "metadata": {},
   "outputs": [
    {
     "name": "stdout",
     "output_type": "stream",
     "text": [
      "{'name': 'Mohan', 'age': 20}\n"
     ]
    }
   ],
   "source": [
    "# Q6. Can we create a nested dictionary?\n",
    "#     Yes, we can create a nested dictionary.\n",
    "\n",
    "#  Example of a simple one-level nested dictionary.\n",
    "\n",
    "my_dict = {\"person1\": {\"name\": \"Mohan\",\"age\": 20},\"person2\": {\"name\": \"Sohan\",\"age\": 25}}\n",
    "\n",
    "print(my_dict[\"person1\"])"
   ]
  },
  {
   "cell_type": "code",
   "execution_count": 10,
   "id": "056e51d7-e9d3-4b90-9724-3767d300ce3f",
   "metadata": {},
   "outputs": [
    {
     "name": "stdout",
     "output_type": "stream",
     "text": [
      "{'language': 'Python', 'course': 'Data Science Masters', 'my_list': ['Python', 'Machine Learning', 'Deep Learning']}\n"
     ]
    }
   ],
   "source": [
    "# Q7. Using setdefault() method, create key named topics in the given dictionary\n",
    "#     and also add the value of the key as this list ['Python', 'Machine Learning', 'Deep Learning']\n",
    "\n",
    "\n",
    "dict1 = {'language' : 'Python', 'course': 'Data Science Masters'}\n",
    "\n",
    "\n",
    "my_list = ['Python', 'Machine Learning', 'Deep Learning']\n",
    "dict1.setdefault('my_list', my_list)\n",
    "\n",
    "print(dict1)  "
   ]
  },
  {
   "cell_type": "code",
   "execution_count": 11,
   "id": "7d0acde6-2ff6-4736-bbdf-9c74ebc97840",
   "metadata": {},
   "outputs": [],
   "source": [
    "# Q8. What are the three view objects in dictionaries?\n",
    "# Use the three in-built methods in python to display these three view objects for the given dictionary."
   ]
  },
  {
   "cell_type": "markdown",
   "id": "9a48ca91-4246-435f-a2a9-5d5a02b0e857",
   "metadata": {},
   "source": [
    "The three types of view objects are: dict_keys, dict_values, and dict_items. These view objects provide a dynamic view of the dictionary's contents and can be used to iterate over the dictionary or perform set-like operations. Here's how to obtain the three view objects for the given dictionary dict1:"
   ]
  },
  {
   "cell_type": "code",
   "execution_count": 12,
   "id": "6d9b6b5c-5752-47cc-9224-f936f2724d70",
   "metadata": {},
   "outputs": [
    {
     "name": "stdout",
     "output_type": "stream",
     "text": [
      "dict_keys(['Sport', 'Teams'])\n",
      "dict_values(['Cricket', ['India', 'Australia', 'England', 'South Africa', 'Sri Lanka', 'New Zealand']])\n",
      "dict_items([('Sport', 'Cricket'), ('Teams', ['India', 'Australia', 'England', 'South Africa', 'Sri Lanka', 'New Zealand'])])\n"
     ]
    }
   ],
   "source": [
    "dict1 = {'Sport': 'Cricket', 'Teams': ['India', 'Australia', 'England', 'South Africa', 'Sri Lanka', 'New Zealand']}\n",
    "\n",
    "# Get the dict_keys object using the keys() method\n",
    "keys_view = dict1.keys()\n",
    "\n",
    "# Get the dict_values object using the values() method\n",
    "values_view = dict1.values()\n",
    "\n",
    "# Get the dict_items object using the items() method\n",
    "items_view = dict1.items()\n",
    "\n",
    "# Display the view objects\n",
    "print(keys_view)    \n",
    "print(values_view)  \n",
    "print(items_view)   \n"
   ]
  },
  {
   "cell_type": "code",
   "execution_count": null,
   "id": "dc88da37-f33c-4350-a415-045fc8d80a96",
   "metadata": {},
   "outputs": [],
   "source": []
  }
 ],
 "metadata": {
  "kernelspec": {
   "display_name": "Python 3 (ipykernel)",
   "language": "python",
   "name": "python3"
  },
  "language_info": {
   "codemirror_mode": {
    "name": "ipython",
    "version": 3
   },
   "file_extension": ".py",
   "mimetype": "text/x-python",
   "name": "python",
   "nbconvert_exporter": "python",
   "pygments_lexer": "ipython3",
   "version": "3.10.8"
  }
 },
 "nbformat": 4,
 "nbformat_minor": 5
}
