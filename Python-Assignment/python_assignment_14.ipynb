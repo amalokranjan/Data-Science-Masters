{
 "cells": [
  {
   "cell_type": "markdown",
   "id": "003aaf82-ce29-4ade-8045-74795019c377",
   "metadata": {},
   "source": [
    "### Q1. What is multithreading in python? Why is it used? Name the module used to handle threads in python.\n",
    "    Multithreading in Python is a way of executing multiple threads(smaller units of a process) simultaneously in a single process to improve the overall performance of the application.\n",
    "    It is used for parallelism and concurrency. It allows the execution of multiple threads simultaneously in a single process, allowing faster and more efficient of a program.\n",
    "    'threading' module is used to handle threads in python."
   ]
  },
  {
   "cell_type": "markdown",
   "id": "497c2875-f4a4-463e-b07b-7593a4e721b4",
   "metadata": {},
   "source": [
    "### Q2. Why threading module used? Write the use of the following functions:\n",
    "    The threading module is used to create, manage and synchronize threads in a multi-threaded program. It allows multiple threads to run concurrently within a single process, enabling a programm to perform multiple tasks simultaneously, thus improving the program's efficiency and responsiveness.\n",
    "    1. activeCount(): It is used to count the number of active threads in the current thread's processing unit.\n",
    "    2. currentThread(): It is used to return the current thread object that is running the caller code.\n",
    "    3. enumerate() : It is used to iterate over a sequence(such as a list or tuple) and keep track of the index of the current item being processed. It returns an iterator that generates pairs of the form(index, item) where index is the index of the item in the sequence and item is the actual item."
   ]
  },
  {
   "cell_type": "markdown",
   "id": "818cc84f-1e2e-4f4d-aace-b2bb28ff7976",
   "metadata": {},
   "source": [
    "### Q3. Explain the following functions:\n",
    "    1. run(): run() function is used to define the behavior of a thread. It is the method that is executed when the 'start()' method is called on a 'Thread' object.\n",
    "    2. start(): start() function is used to start a new thread. This function causes the 'run()' method of the thread to be executed in s seperate thread of control.\n",
    "    3. join(): It is used to wait for a thread to finish its execution before continuing with the main program.\n",
    "    4. isAlive(): It is used to check whether a thread is still active or not. It returns 'True' if the thread is still running, and 'False' otherwise."
   ]
  },
  {
   "cell_type": "markdown",
   "id": "600ef6f6-b61f-4894-b24d-e205d350d023",
   "metadata": {},
   "source": [
    "### Q4. Write a python program to create two threads. Thread one must print the list of squares and thread two must print the list of cubes."
   ]
  },
  {
   "cell_type": "code",
   "execution_count": 7,
   "id": "3cbe49a8-b86b-4e17-9f3d-de36bfd3ba1d",
   "metadata": {},
   "outputs": [
    {
     "name": "stdout",
     "output_type": "stream",
     "text": [
      "Square of 1 is 1\n",
      "Square of 2 is 4\n",
      "Square of 3 is 9\n",
      "Square of 4 is 16\n",
      "Square of 5 is 25\n",
      "Square of 6 is 36\n",
      "Square of 7 is 49\n",
      "Square of 8 is 64\n",
      "Square of 9 is 81\n",
      "Square of 10 is 100\n",
      "Cube of 1 is 1\n",
      "Cube of 2 is 8\n",
      "Cube of 3 is 27\n",
      "Cube of 4 is 64\n",
      "Cube of 5 is 125\n",
      "Cube of 6 is 216\n",
      "Cube of 7 is 343\n",
      "Cube of 8 is 512\n",
      "Cube of 9 is 729\n",
      "Cube of 10 is 1000\n"
     ]
    }
   ],
   "source": [
    "import threading\n",
    "\n",
    "class Thread1(threading.Thread) :\n",
    "    def run(self) :\n",
    "        for i in range(1,11) :\n",
    "            print(f\"Square of {i} is {i**2}\")\n",
    "            \n",
    "class Thread2(threading.Thread) :\n",
    "    def run(self) :\n",
    "        for i in range(1, 11) :\n",
    "            print(f\"Cube of {i} is {i**3}\")\n",
    "            \n",
    "t1 = Thread1()\n",
    "t2 = Thread2()\n",
    "\n",
    "\n",
    "t1.start()\n",
    "t2.start()\n",
    "\n"
   ]
  },
  {
   "cell_type": "markdown",
   "id": "91c2a123-9091-47ad-a731-08cae7969b37",
   "metadata": {},
   "source": [
    "### Q6. State advantages and disadvantages of multithreading.\n",
    "    Advantages of multithreading:\n",
    "    1. Increased performance and responsiveness\n",
    "    2. Efficient use of system resources\n",
    "    3. Simplifies complex tasks\n",
    "    4. Improved user experience\n",
    "    \n",
    "    Disadvantages of multithreading\n",
    "    1. Increased complexity\n",
    "    2. Race conditions and synchronization issues\n",
    "    3. Debugging is difficult\n",
    "    4. Overhead"
   ]
  },
  {
   "cell_type": "markdown",
   "id": "f8a4c33d-fddc-4f7d-b6e4-e4c4f9af7da7",
   "metadata": {},
   "source": [
    "### Q6. Explain deadlocks and race conditions.\n",
    "    Deadlocks and race conditions are two common problems that can occur in multithreaded programming.\n",
    "    A deadlock occurs when two or more threads are blocked waition for each other to release a shared resource or to take action, resulting in a situation where none of the threads can proceed.\n",
    "    A race condition occurs when two or more threads access shared data or resources in such a way that the final outcome depends on the order in which the threads execute."
   ]
  },
  {
   "cell_type": "code",
   "execution_count": null,
   "id": "f026bd5f-5612-4ae0-9e56-8538c4faf841",
   "metadata": {},
   "outputs": [],
   "source": []
  }
 ],
 "metadata": {
  "kernelspec": {
   "display_name": "Python 3 (ipykernel)",
   "language": "python",
   "name": "python3"
  },
  "language_info": {
   "codemirror_mode": {
    "name": "ipython",
    "version": 3
   },
   "file_extension": ".py",
   "mimetype": "text/x-python",
   "name": "python",
   "nbconvert_exporter": "python",
   "pygments_lexer": "ipython3",
   "version": "3.10.8"
  }
 },
 "nbformat": 4,
 "nbformat_minor": 5
}
