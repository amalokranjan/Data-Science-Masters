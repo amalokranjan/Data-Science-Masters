{
 "cells": [
  {
   "cell_type": "markdown",
   "id": "25ddae9b-5cc4-46c3-91f1-985e397a9752",
   "metadata": {},
   "source": [
    "### Q1. What is an Exception in python? Write the difference between Exceptions and Syntax errors.\n",
    "    In Python, an exception is an event that interrupts the normal flow of the program's execution. It is raised when an error or unexpected situation occurs during program execution.\n",
    "    \n",
    "    Exceptions are runtime errors that occur when the program is being executed, whereas syntax errors occur at the time of code compilation.\n",
    "    Exceptions can be caught and handled using try-except blocks, whereas syntax errors cannot be caught and handled using exception handling.\n"
   ]
  },
  {
   "cell_type": "markdown",
   "id": "1bbdc662-f9b6-4914-be8a-f3da753de7a2",
   "metadata": {},
   "source": [
    "### Q2. What happens when an exception is not handled? Explain with an example.\n",
    "    When an exception is not handled, it will result in an error message and the program will terminate abruptly. This is because the exception interrupts the normal flow of the program and if there is no code to handle the exception, the program cannot continue."
   ]
  },
  {
   "cell_type": "code",
   "execution_count": 1,
   "id": "48364393-9892-48a6-bff7-eabca30b3a28",
   "metadata": {},
   "outputs": [
    {
     "name": "stdin",
     "output_type": "stream",
     "text": [
      "Enter a number:  5\n",
      "Enter another number:  0\n"
     ]
    },
    {
     "ename": "ZeroDivisionError",
     "evalue": "division by zero",
     "output_type": "error",
     "traceback": [
      "\u001b[0;31m---------------------------------------------------------------------------\u001b[0m",
      "\u001b[0;31mZeroDivisionError\u001b[0m                         Traceback (most recent call last)",
      "Cell \u001b[0;32mIn[1], line 5\u001b[0m\n\u001b[1;32m      3\u001b[0m num1 \u001b[38;5;241m=\u001b[39m \u001b[38;5;28mint\u001b[39m(\u001b[38;5;28minput\u001b[39m(\u001b[38;5;124m\"\u001b[39m\u001b[38;5;124mEnter a number: \u001b[39m\u001b[38;5;124m\"\u001b[39m))\n\u001b[1;32m      4\u001b[0m num2 \u001b[38;5;241m=\u001b[39m \u001b[38;5;28mint\u001b[39m(\u001b[38;5;28minput\u001b[39m(\u001b[38;5;124m\"\u001b[39m\u001b[38;5;124mEnter another number: \u001b[39m\u001b[38;5;124m\"\u001b[39m))\n\u001b[0;32m----> 5\u001b[0m result \u001b[38;5;241m=\u001b[39m \u001b[43mnum1\u001b[49m\u001b[43m \u001b[49m\u001b[38;5;241;43m/\u001b[39;49m\u001b[43m \u001b[49m\u001b[43mnum2\u001b[49m\n\u001b[1;32m      6\u001b[0m \u001b[38;5;28mprint\u001b[39m(\u001b[38;5;124m\"\u001b[39m\u001b[38;5;124mThe result is:\u001b[39m\u001b[38;5;124m\"\u001b[39m, result)\n",
      "\u001b[0;31mZeroDivisionError\u001b[0m: division by zero"
     ]
    }
   ],
   "source": [
    "# example \n",
    "\n",
    "num1 = int(input(\"Enter a number: \"))\n",
    "num2 = int(input(\"Enter another number: \"))\n",
    "result = num1 / num2\n",
    "print(\"The result is:\", result)\n",
    "\n"
   ]
  },
  {
   "cell_type": "markdown",
   "id": "fdbce344-5974-4d64-93dd-642cc66422d2",
   "metadata": {},
   "source": [
    "### Q3. Which Python statements are used to catch and handle exceptions? Explain with an example.\n",
    "    'try' and 'except' statements are used to catch and handle exceptions."
   ]
  },
  {
   "cell_type": "code",
   "execution_count": 2,
   "id": "64640a96-c28a-4e70-968d-292e589ec4ef",
   "metadata": {},
   "outputs": [
    {
     "name": "stdin",
     "output_type": "stream",
     "text": [
      "Enter a number:  5\n",
      "Enter another number:  0\n"
     ]
    },
    {
     "name": "stdout",
     "output_type": "stream",
     "text": [
      "Error occurred: division by zero\n"
     ]
    }
   ],
   "source": [
    "# example\n",
    "\n",
    "try:\n",
    "    num1 = int(input(\"Enter a number: \"))\n",
    "    num2 = int(input(\"Enter another number: \"))\n",
    "    result = num1 / num2\n",
    "    print(f\"The result is: {result}\")\n",
    "except Exception as e:\n",
    "    print(\"Error occurred:\", e)\n"
   ]
  },
  {
   "cell_type": "markdown",
   "id": "c2eeb5d2-7f38-4231-96b2-239028d8eca2",
   "metadata": {},
   "source": [
    "### Q4. Explain with an example:\n",
    "    a. try and else\n",
    "    b. finally\n",
    "    c. raise"
   ]
  },
  {
   "cell_type": "code",
   "execution_count": 4,
   "id": "73d6b119-c20f-44ba-85fb-f51a034e8405",
   "metadata": {},
   "outputs": [
    {
     "name": "stdin",
     "output_type": "stream",
     "text": [
      "Enter a number:  5\n",
      "Enter another number:  1\n"
     ]
    },
    {
     "name": "stdout",
     "output_type": "stream",
     "text": [
      "Result:  5.0\n"
     ]
    }
   ],
   "source": [
    "# a. try and else\n",
    "\n",
    "# In Python, the try-except statement is used to catch and handle exceptions.\n",
    "# However, sometimes you may want to execute some code if no exception was raised in the try block. \n",
    "# This is where the else statement comes in.\n",
    "\n",
    "try:\n",
    "    num1 = int(input(\"Enter a number: \"))\n",
    "    num2 = int(input(\"Enter another number: \"))\n",
    "    result = num1 / num2\n",
    "except Exception as e:\n",
    "    print(\"Error occurred:\", e)\n",
    "else:\n",
    "    print(\"Result: \", result)"
   ]
  },
  {
   "cell_type": "code",
   "execution_count": 8,
   "id": "abb1d9d3-c3b1-4c99-abe9-e1976a501a11",
   "metadata": {},
   "outputs": [
    {
     "name": "stdin",
     "output_type": "stream",
     "text": [
      "Enter a number:  5\n",
      "Enter another number:  1\n"
     ]
    },
    {
     "name": "stdout",
     "output_type": "stream",
     "text": [
      "The result is: 5.0\n",
      "End of program\n"
     ]
    }
   ],
   "source": [
    "# b. finally\n",
    "\n",
    "# The 'finally' block is used in conjunction with the 'try' and 'except' blocks to define a block\n",
    "# of code that will be executed regardless of wheather an exception was raised or not.\n",
    "\n",
    "try:\n",
    "    num1 = int(input(\"Enter a number: \"))\n",
    "    num2 = int(input(\"Enter another number: \"))\n",
    "    result = num1 / num2\n",
    "    \n",
    "except Exception as e:\n",
    "    print(\"Error: Cannot divide by zero\")\n",
    "else:\n",
    "    print(\"The result is:\", result)\n",
    "finally:\n",
    "    print(\"End of program\")\n",
    "\n"
   ]
  },
  {
   "cell_type": "code",
   "execution_count": 9,
   "id": "fc2d1a2b-a8b1-4b83-9c1d-921ff34c950a",
   "metadata": {},
   "outputs": [
    {
     "name": "stdout",
     "output_type": "stream",
     "text": [
      "Exception caught:  The list is empty.\n"
     ]
    }
   ],
   "source": [
    "# c. raise\n",
    "\n",
    "# raise is used to raise an exception explicitly.\n",
    "# It is generally used to throw a user-defined exception or to trigger an already defined exception in the program.\n",
    "\n",
    "# Defining a function to calculate the average of a list\n",
    "def average(num_list):\n",
    "    if len(num_list) == 0:\n",
    "        # If the list is empty, raise a ValueError exception\n",
    "        raise ValueError(\"The list is empty.\")\n",
    "    else:\n",
    "        return sum(num_list) / len(num_list)\n",
    "\n",
    "# Calling the function with an empty list\n",
    "try:\n",
    "    result = average([])\n",
    "except ValueError as e:\n",
    "    # Catching the raised exception\n",
    "    print(\"Exception caught: \", str(e))\n",
    "else:\n",
    "    # If no exception is raised, print the result\n",
    "    print(\"The average is: \", result)\n"
   ]
  },
  {
   "cell_type": "markdown",
   "id": "36834cca-1764-41f1-95bd-55605696334b",
   "metadata": {},
   "source": [
    "### Q5. What are Custom Exceptions in python? Why do we need Custom Exceptions? Explain with an example.\n",
    "    Custom Exceptions in Python are user-defined exceptions that can be created to raise an exception in a specific scenario. We need custom exceptions when we want to raise an exception that is not present in the built-in exception classes."
   ]
  },
  {
   "cell_type": "code",
   "execution_count": 1,
   "id": "855887c9-58f0-466f-add8-638b47223e53",
   "metadata": {},
   "outputs": [
    {
     "name": "stdin",
     "output_type": "stream",
     "text": [
      "Enter your age:  -5\n"
     ]
    },
    {
     "name": "stdout",
     "output_type": "stream",
     "text": [
      "Invalid Age Error: Age should be positive\n"
     ]
    }
   ],
   "source": [
    "class InvalidAgeError(Exception):\n",
    "    \"\"\"Raised when the age entered is not valid\"\"\"\n",
    "    pass\n",
    "\n",
    "def verify_age(age):\n",
    "    if age < 0:\n",
    "        raise InvalidAgeError(\"Age should be positive\")\n",
    "    else:\n",
    "        print(\"Age is valid\")\n",
    "\n",
    "try:\n",
    "    age = int(input(\"Enter your age: \"))\n",
    "    verify_age(age)\n",
    "except InvalidAgeError as e:\n",
    "    print(\"Invalid Age Error:\", e)\n"
   ]
  },
  {
   "cell_type": "markdown",
   "id": "466cdca7-b7e0-4ac4-9c71-69feb66d7902",
   "metadata": {},
   "source": [
    "### Q6. Create a custom exception class. Use this class to handle an exception."
   ]
  },
  {
   "cell_type": "code",
   "execution_count": 2,
   "id": "1230ffda-a374-4e75-859e-9c24687f5d36",
   "metadata": {},
   "outputs": [
    {
     "name": "stdout",
     "output_type": "stream",
     "text": [
      "Error occurred: Number must be non-negative\n"
     ]
    }
   ],
   "source": [
    "\n",
    "# Custom exception class\n",
    "class NegativeNumberError(Exception):\n",
    "    pass\n",
    "\n",
    "# Function that raises custom exception\n",
    "def calculate_square(num):\n",
    "    if num < 0:\n",
    "        raise NegativeNumberError(\"Number must be non-negative\")\n",
    "    return num**2\n",
    "\n",
    "# Handling the custom exception\n",
    "try:\n",
    "    result = calculate_square(-5)\n",
    "except NegativeNumberError as e:\n",
    "    print(\"Error occurred:\", e)\n",
    "else:\n",
    "    print(\"Result:\", result)\n"
   ]
  },
  {
   "cell_type": "code",
   "execution_count": null,
   "id": "2a0547cc-13ef-4941-9b36-75b2703e054d",
   "metadata": {},
   "outputs": [],
   "source": []
  }
 ],
 "metadata": {
  "kernelspec": {
   "display_name": "Python 3 (ipykernel)",
   "language": "python",
   "name": "python3"
  },
  "language_info": {
   "codemirror_mode": {
    "name": "ipython",
    "version": 3
   },
   "file_extension": ".py",
   "mimetype": "text/x-python",
   "name": "python",
   "nbconvert_exporter": "python",
   "pygments_lexer": "ipython3",
   "version": "3.10.8"
  }
 },
 "nbformat": 4,
 "nbformat_minor": 5
}
