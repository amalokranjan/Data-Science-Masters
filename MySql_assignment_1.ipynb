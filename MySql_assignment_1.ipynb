{
 "cells": [
  {
   "cell_type": "markdown",
   "id": "8d6acffe-1c42-426b-b972-87d7902f8853",
   "metadata": {},
   "source": [
    "### Q1. What is a database? Differentiate between SQL and NoSQL databases.\n",
    "    A database is a collection of organized data that is stored and accessed electronically. It is used to store and manage data efficiently so that it can be easily accessed, modified, and updated as per the requirements.\n",
    "    \n",
    "    Data model: SQL databases use a relational data model, while NoSQL databases use various data models, such as key-value pairs, documents, graphs, or column-family models.\n",
    "    \n",
    "    Query language: SQL databases use SQL language to interact with the data, while NoSQL databases use different query languages use different query languages, such as MongoDB's query lanuguage, Cassandra Query Language(CQL), or Couchbase Query Language(N1QL).\n",
    "    \n",
    "    Scalability: SQL databases are vertically scalable, which means they can handle increased load by upgrading the hardware, while NoSQL databases are horizontally scalable, which means they can handle increased load by adding more servers or nodes ot the cluster.\n",
    "    \n",
    "    Data consistency: SQL databases prioritize consistency over availability, while NoSQL databases prioritize availability over consistency."
   ]
  },
  {
   "cell_type": "markdown",
   "id": "197ea698-d4e9-44ce-94c8-35967c8a3f20",
   "metadata": {},
   "source": [
    "### Q2. What is DDL? Explain why CREATE, DROP, ALTER, and TRUNCATE are used with an example.\n",
    "    DDL stands for Data Definition Language. It is a set of SQL commands used to define the database schema and to manipulate the structure of the database.\n",
    "    \n",
    "    CREATE: This command is used to create a new database or to create new objects such as tables, views, procedures, and functions. For example, to create a table named \"employees\" in a database, the following command can be used:\n",
    "    \n",
    "    CREATE TABLE employees (\n",
    "        id INT PRIMARY KEY,\n",
    "        name VARCHAR(50),\n",
    "        age INT\n",
    "    );\n",
    "    \n",
    "    DROP: This command is used to delete an existing database or an object within a database. For example, to delete the table \"employees\" created in the above example, the following command can be used:\n",
    "    \n",
    "    DROP TABLE employees;\n",
    "    \n",
    "    ALTER: This command is used to modify the structure of an existing object within a database. For example, to add a new column \"salary\" to the \"employees\" table created earlier, the following command can be used:\n",
    "    \n",
    "    ALTER TABLE employees ADD COLUMN salary INT;\n",
    "    \n",
    "    TRUNCATE: This command is used to remove all the data from an existing table without deleting the table structure. For example, to remove all the data from the \"employees\" table, the following command can be used:\n",
    "    TRUNCATE TABLE employees;"
   ]
  },
  {
   "cell_type": "markdown",
   "id": "6a9bb231-7377-4566-83b3-3b5c3300cc34",
   "metadata": {},
   "source": [
    "### Q3. What is DML? Explain INSERT, UPDATE, and DELETE with an example.\n",
    "    DML stands for Data Manipulation Language, which is a subset of SQL that is used to manipulate data in a database. DML statements are used to insert, update, and delete records from a database table.\n",
    "    \n",
    "    INSERT: The INSERT statement is used to add new records to a table\n",
    "    example - \n",
    "    \n",
    "    INSERT INTO customers (name, email, phone) VALUES ('Alok Ranjan', 'alok@example.com', '323434');\n",
    "    \n",
    "    UPDATE: The UPDATE statement is used to modify existing records in a table.\n",
    "    example-\n",
    "    UPDATE customers SET email = 'newemail@example.com' WHERE name = 'Alok Ranjan';\n",
    "    \n",
    "    DELETE: The DELETE statement is used to remove records from a table.\n",
    "    example:\n",
    "    DELETE FROM customers WHERE name = 'Alok Ranjan';"
   ]
  },
  {
   "cell_type": "markdown",
   "id": "a1f93f85-531f-438d-bd1d-ba5b9a140e20",
   "metadata": {},
   "source": [
    "### Q4. What is DQL? Explain SELECT with an example.\n",
    "    DQL stands for Data Query Language, and it is used to retrive data from the database. The most common DQL command is SELECT, which allows us to retrieve data from one or more tables in the database.The SELECT statement has several components, including the SELECT clause, the FROM clause, and the WHERE clause.\n",
    "    example-\n",
    "    SELECT * FROM employees"
   ]
  },
  {
   "cell_type": "markdown",
   "id": "b6f10f14-579f-4266-bc05-4f3b6f61022b",
   "metadata": {},
   "source": [
    "### Q5. Explain Primary Key and Foreign Key.\n",
    "    A Primary Key is a unique identifier for a record in a table. It is used to identify each row in the table uniquely, and it must have a unique value for each record. The primary key can be a single column or a combination of columns.\n",
    "    \n",
    "    A foreign key is a column in a table that is used to link to the primary key of another table. It is used to enforce referential integrity, which means that the data in the table must be consistent with the data in related tables. A foreign key can be a single columns, and it must have the same data type as the primary key that it references."
   ]
  },
  {
   "cell_type": "markdown",
   "id": "9d94d283-0e2b-4cab-85c0-813ec6b59ccd",
   "metadata": {},
   "source": [
    "### Q6. Write a python code to connect MySQL to python. Explain the cursor() and execute() method."
   ]
  },
  {
   "cell_type": "code",
   "execution_count": null,
   "id": "997147e0-438a-4adc-9964-ac5d382db985",
   "metadata": {},
   "outputs": [],
   "source": [
    "import mysql.connector\n",
    "\n",
    "mydb = mysql.connector.connect(\n",
    "    host = \"localhost\",\n",
    "    user = \"abc\",\n",
    "    password = \"password\",\n",
    "    database = \"databasename\"\n",
    ")\n",
    "\n",
    "mycursor = mydb.cursor()\n",
    "\n",
    "mycursor.execute(\"SELECT * FROM customers\")\n",
    "\n",
    "results = mycursor.fetchall()\n",
    "\n",
    "for row in results:\n",
    "    print(row)"
   ]
  },
  {
   "cell_type": "markdown",
   "id": "eb0d18ef-0269-4717-9cc1-535108015fab",
   "metadata": {},
   "source": [
    "    cursor(): cursor() method return cursor object which is used to execute SQL queries and fetch results.\n",
    "    execute(): execute() mehod is used to execute SQL query. It takes the SQL query as a parameter."
   ]
  },
  {
   "cell_type": "markdown",
   "id": "dd10ac9b-f6c6-4cbe-9502-b832eefd519e",
   "metadata": {},
   "source": [
    "### Q7. Give the order of execution of SQL clauses in an SQL query.\n",
    "    The order of execution of SQL clauses in an SQL query is as follows:\n",
    "    \n",
    "    1. FROM\n",
    "    2. WHERE\n",
    "    3. GROUP BY\n",
    "    4. HAVING\n",
    "    5. SELECT\n",
    "    6. DISTINCT\n",
    "    7. ORDER BY\n",
    "    8. LIMIT/OFFSET"
   ]
  },
  {
   "cell_type": "code",
   "execution_count": null,
   "id": "16f9e62a-f2e6-48a4-8b13-ccf4f2f34745",
   "metadata": {},
   "outputs": [],
   "source": []
  }
 ],
 "metadata": {
  "kernelspec": {
   "display_name": "Python 3 (ipykernel)",
   "language": "python",
   "name": "python3"
  },
  "language_info": {
   "codemirror_mode": {
    "name": "ipython",
    "version": 3
   },
   "file_extension": ".py",
   "mimetype": "text/x-python",
   "name": "python",
   "nbconvert_exporter": "python",
   "pygments_lexer": "ipython3",
   "version": "3.10.8"
  }
 },
 "nbformat": 4,
 "nbformat_minor": 5
}
