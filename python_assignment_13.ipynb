{
 "cells": [
  {
   "cell_type": "markdown",
   "id": "7b747cf5-8a62-41b8-81cd-1fa19525da4c",
   "metadata": {},
   "source": [
    "### Q1. Explain why we have to use the Exception class while creating a custom Exception.\n",
    "    The exception class is the base class for all built-in exceptions. When creating a custom exception class, we want it to inherit from the Exception class to create a new exception that is specific to our application's needs.\n",
    "    Inheriting from the Exception class allows our custom exception to inherit all the properties and methods of the Exception class, including the ability to capture and display the error message that occurred."
   ]
  },
  {
   "cell_type": "markdown",
   "id": "aa6b0e20-9ad2-49a7-9c59-2da6980bde6f",
   "metadata": {},
   "source": [
    "### Q2. Write a python program to print Python Exception Hierarchy."
   ]
  },
  {
   "cell_type": "code",
   "execution_count": 1,
   "id": "5fc622a7-0309-4e86-8bd3-37d688fe45e3",
   "metadata": {},
   "outputs": [
    {
     "name": "stdout",
     "output_type": "stream",
     "text": [
      "TypeError\n",
      "StopAsyncIteration\n",
      "StopIteration\n",
      "ImportError\n",
      "OSError\n",
      "EOFError\n",
      "RuntimeError\n",
      "NameError\n",
      "AttributeError\n",
      "SyntaxError\n",
      "LookupError\n",
      "ValueError\n",
      "AssertionError\n",
      "ArithmeticError\n",
      "SystemError\n",
      "ReferenceError\n",
      "MemoryError\n",
      "BufferError\n",
      "Warning\n",
      "_OptionError\n",
      "_Error\n",
      "error\n",
      "Verbose\n",
      "Error\n",
      "SubprocessError\n",
      "TokenError\n",
      "StopTokenizing\n",
      "ClassFoundException\n",
      "EndOfBlock\n",
      "TraitError\n",
      "Error\n",
      "Error\n",
      "_GiveupOnSendfile\n",
      "error\n",
      "Incomplete\n",
      "TimeoutError\n",
      "InvalidStateError\n",
      "LimitOverrunError\n",
      "QueueEmpty\n",
      "QueueFull\n",
      "Empty\n",
      "Full\n",
      "ArgumentError\n",
      "ZMQBaseError\n",
      "PickleError\n",
      "_Stop\n",
      "ArgumentError\n",
      "ArgumentTypeError\n",
      "ConfigError\n",
      "ConfigurableError\n",
      "ApplicationError\n",
      "error\n",
      "TimeoutError\n",
      "error\n",
      "ReturnValueIgnoredError\n",
      "KeyReuseError\n",
      "UnknownKeyError\n",
      "LeakedCallbackError\n",
      "BadYieldError\n",
      "ReturnValueIgnoredError\n",
      "Return\n",
      "InvalidPortNumber\n",
      "error\n",
      "LZMAError\n",
      "RegistryError\n",
      "_GiveupOnFastCopy\n",
      "Error\n",
      "NoIPAddresses\n",
      "BadZipFile\n",
      "LargeZipFile\n",
      "BadEntryPoint\n",
      "NoSuchEntryPoint\n",
      "DuplicateKernelError\n",
      "ErrorDuringImport\n",
      "NotOneValueFound\n",
      "CannotEval\n",
      "OptionError\n",
      "BdbQuit\n",
      "Restart\n",
      "ExceptionPexpect\n",
      "PtyProcessError\n",
      "FindCmdError\n",
      "HomeDirError\n",
      "ProfileDirError\n",
      "IPythonCoreError\n",
      "InputRejected\n",
      "GetoptError\n",
      "ErrorToken\n",
      "PrefilterError\n",
      "AliasError\n",
      "Error\n",
      "Warning\n",
      "SpaceInInput\n",
      "DOMException\n",
      "ValidationError\n",
      "EditReadOnlyBuffer\n",
      "_Retry\n",
      "InvalidLayoutError\n",
      "HeightIsUnknownError\n",
      "ParserSyntaxError\n",
      "InternalParseError\n",
      "_PositionUpdatingFinished\n",
      "SimpleGetItemNotFound\n",
      "UncaughtAttributeError\n",
      "HasNoContext\n",
      "ParamIssue\n",
      "_JediError\n",
      "OnErrorLeaf\n",
      "InvalidPythonEnvironment\n",
      "MessageError\n",
      "Error\n",
      "HTTPException\n",
      "InteractivelyDefined\n",
      "KillEmbedded\n",
      "Error\n",
      "_Ipv6UnsupportedError\n",
      "QueueEmpty\n",
      "QueueFull\n",
      "DebuggerInitializationError\n",
      "ExpatError\n",
      "Error\n",
      "ParseBaseException\n",
      "RecursiveGrammarException\n",
      "ResolutionError\n",
      "_Error\n",
      "UnableToResolveVariableException\n",
      "InvalidTypeInArgsException\n"
     ]
    }
   ],
   "source": [
    "\n",
    "# Get the built-in exception hierarchy using the Exception class\n",
    "exceptions = Exception.__subclasses__()\n",
    "\n",
    "# Print the hierarchy\n",
    "for i in exceptions:\n",
    "    print(i.__name__)"
   ]
  },
  {
   "cell_type": "markdown",
   "id": "a5e3db09-fd6c-4c9a-bab9-e5e0e268bc1e",
   "metadata": {},
   "source": [
    "### Q3. What errors are defined in the ArithmeticError class? Explain any two with an example.\n",
    "    The ArithmeticError is a built-in Python exception class that is raised for arithmetic-related errors. It is the base class for various arithmetic-related exceptions, including ZeroDivisionError, OverflowError, and FloatingPointError.\n",
    "    "
   ]
  },
  {
   "cell_type": "code",
   "execution_count": 15,
   "id": "2e942a54-4d09-40a2-a131-4ce0a977c21d",
   "metadata": {},
   "outputs": [
    {
     "name": "stdout",
     "output_type": "stream",
     "text": [
      "Division by zero not allowed\n"
     ]
    }
   ],
   "source": [
    "# 1. ZeroDivisionError: This error is raised when a number is divided by zero.\n",
    "\n",
    "try :\n",
    "    a = 10/0\n",
    "except ZeroDivisionError :\n",
    "    print(\"Division by zero not allowed\")"
   ]
  },
  {
   "cell_type": "code",
   "execution_count": 1,
   "id": "0ef1b16b-c581-4104-ac42-80d3c8ccfb86",
   "metadata": {},
   "outputs": [
    {
     "name": "stdout",
     "output_type": "stream",
     "text": [
      "Calculation resulted in overflow\n"
     ]
    }
   ],
   "source": [
    "# 2. OverflowError: This error is raised when the result of an arithmetic operation exceeds the maximum representable value.\n",
    "\n",
    "import math\n",
    "\n",
    "try :\n",
    "    result = math.exp(1000)\n",
    "except OverflowError:\n",
    "    print(\"Calculation resulted in overflow\")"
   ]
  },
  {
   "cell_type": "markdown",
   "id": "5e68ec67-a536-4ed4-abef-9c2034d57bd7",
   "metadata": {},
   "source": [
    "### Q4. Why LookupError class is used? Explain with an example KeyError and IndexError.\n",
    "    LookupError is the base class for all lookup errors in Python. It is a subclass of the built-in Exception class. It is used to catch all errors that occur while trying to access a container object like a list, tuple, dictionary, etc. and the lookup fails due to an incorrect index or key.\n",
    "    KeyError and IndexError are the two common exceptions derived from the LookupError class."
   ]
  },
  {
   "cell_type": "code",
   "execution_count": 2,
   "id": "dfe19b35-42bd-4d76-8773-7db9501597bf",
   "metadata": {},
   "outputs": [
    {
     "name": "stdout",
     "output_type": "stream",
     "text": [
      "Key not found in the dictionary\n"
     ]
    }
   ],
   "source": [
    "# example of KeyError:\n",
    "\n",
    "my_dict = {\"name\": \"Alok\", \"age\":21}\n",
    "\n",
    "try:\n",
    "    print(my_dict[\"country\"])\n",
    "except KeyError:\n",
    "    print(\"Key not found in the dictionary\")"
   ]
  },
  {
   "cell_type": "code",
   "execution_count": 3,
   "id": "478f6a9f-db6c-43a6-ae0e-930b0095079b",
   "metadata": {},
   "outputs": [
    {
     "name": "stdout",
     "output_type": "stream",
     "text": [
      "Index out of range\n"
     ]
    }
   ],
   "source": [
    "# example of IndexError\n",
    "\n",
    "my_list = [1,2,3]\n",
    "\n",
    "try:\n",
    "    print(my_list[3])\n",
    "except IndexError:\n",
    "    print(\"Index out of range\")"
   ]
  },
  {
   "cell_type": "markdown",
   "id": "b536994c-a36a-4e8e-82e3-0b292cb42df2",
   "metadata": {},
   "source": [
    "### Q5. Explain importError. What is ModuleNotFoundError?\n",
    "    ImportError is an exception raised when an imported module or attribute cannot be found in Python.\n",
    "    ModuleNotFoundError is a specific subclass of ImportError which is raised when a module is not found while trying to import it."
   ]
  },
  {
   "cell_type": "markdown",
   "id": "f764f99f-945e-411a-9458-6ebf22e61dc5",
   "metadata": {},
   "source": [
    "### Q6. List down some best practices for exception handling in python.\n",
    "    Use always specific exceptions\n",
    "    print always a valid message\n",
    "    always try to log\n",
    "    always avoid to write a mutiple exception handling\n",
    "    prepare a proper documentation\n",
    "    Cleanup all the resources"
   ]
  },
  {
   "cell_type": "code",
   "execution_count": null,
   "id": "17aa01d6-ce90-4056-806a-cef45a7673cf",
   "metadata": {},
   "outputs": [],
   "source": []
  }
 ],
 "metadata": {
  "kernelspec": {
   "display_name": "Python 3 (ipykernel)",
   "language": "python",
   "name": "python3"
  },
  "language_info": {
   "codemirror_mode": {
    "name": "ipython",
    "version": 3
   },
   "file_extension": ".py",
   "mimetype": "text/x-python",
   "name": "python",
   "nbconvert_exporter": "python",
   "pygments_lexer": "ipython3",
   "version": "3.10.8"
  }
 },
 "nbformat": 4,
 "nbformat_minor": 5
}
