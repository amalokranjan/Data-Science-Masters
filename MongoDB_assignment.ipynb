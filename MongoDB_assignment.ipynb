{
 "cells": [
  {
   "cell_type": "markdown",
   "id": "c6743024-3e62-4599-b569-24ebb028072a",
   "metadata": {},
   "source": [
    "### Q1. What is MongoDB? Explain non-relational databases in short. In which scenarios it is preferred to use MongoDB over SQL databases?\n",
    "    MongoDB is a popular document-oriented NoSQL database that stores data in a flexible and scalable JSON-like format called BSON (Binary JSON). It is designed for high scalability, performance, and availability, and it has become a popular choice for modern applications that require flexible and dynamic data models.\n",
    "    \n",
    "    Non-relational database, also known as NoSQL databases, are databases that store data in a non-tabular format. They do not rely on a fixed schema and can handle a variety of data types, including structured, semi-structured, and unstructured data. They are highly scalable and can handle large amounts of data with ease. They are often used in big data applications, where data is unstructured or semi-structured, and traditional SQL databases may not be suitable.\n",
    "    \n",
    "    MongoDB is preferred over SQL databases in scenarios where the data is unstructured or semi-structured, and the schema may change frequently. It is also suitable for applications that require high scalability and performance, as it can handle large amounts of data with ease and scale horizontally across multiple servers. Additionally, it is well-suited for real-time applications that require high availability that require strict data consistency and integrity, as they provide strong ACID (Atomicity, Consistency, Isolation, Durability) guarantees."
   ]
  },
  {
   "cell_type": "markdown",
   "id": "7bd2476d-51cf-45ef-81fd-915af3f00c33",
   "metadata": {},
   "source": [
    "### Q2. State and Explain the features of MongoDB.\n",
    "    MongoDB is a NoSQL document-oriented database system that stores data in a JSON-like format called BSON (Binary JSON). Some of the key features of MongoDB are:\n",
    "    1. Flexible data model: MongoDB's document-based data model provides a flexible schema that can handle different types and structure of data. It allows the storage of complex data types such as arrays, nested documents, and geospatial data.\n",
    "    2. Scalability: MongoDB is highly scalable, both horizontally and vertically. It can easily handle large volumes of data and high-traffic applications by adding more nodes to a cluster or increasing resources on a singly node.\n",
    "    3. High performance: MongoDB's architecture is designed for high performance, with features like memory-mapped files and automatic sharding. It also has a rich query language and indexing support to optimize performance.\n",
    "    4. Replication and High Availability: MongoDB supports automatic replication and failover, which ensures that data is always available even in case of hardware failures or network issues.\n",
    "    5. Rich Query Language: MongoDB's query language supports a wide range of queries, including ad-hoc queries, aggregation, and geospatial queries. It also supports full-text search and graph processing.\n",
    "    6. Document-based Transactions: MongoDB supports multi-document transactions, which allow developers to perform complex operations across multiple documents in a single transaction."
   ]
  },
  {
   "cell_type": "markdown",
   "id": "5b458bf2-1c32-48e0-8520-421ebe16c8fd",
   "metadata": {},
   "source": [
    "### Q3. Write a code to connect MongoDB to Python. Also, create a database and a collection in MongoDB.\n"
   ]
  },
  {
   "cell_type": "code",
   "execution_count": 2,
   "id": "9fbb926a-2290-4ddb-ba63-5dbf914abf01",
   "metadata": {},
   "outputs": [
    {
     "name": "stdout",
     "output_type": "stream",
     "text": [
      "Collecting pymongo\n",
      "  Downloading pymongo-4.3.3-cp310-cp310-manylinux_2_17_x86_64.manylinux2014_x86_64.whl (492 kB)\n",
      "\u001b[2K     \u001b[90m━━━━━━━━━━━━━━━━━━━━━━━━━━━━━━━━━━━━━━━\u001b[0m \u001b[32m492.9/492.9 kB\u001b[0m \u001b[31m4.7 MB/s\u001b[0m eta \u001b[36m0:00:00\u001b[0ma \u001b[36m0:00:01\u001b[0m\n",
      "\u001b[?25hCollecting dnspython<3.0.0,>=1.16.0\n",
      "  Downloading dnspython-2.3.0-py3-none-any.whl (283 kB)\n",
      "\u001b[2K     \u001b[90m━━━━━━━━━━━━━━━━━━━━━━━━━━━━━━━━━━━━━━\u001b[0m \u001b[32m283.7/283.7 kB\u001b[0m \u001b[31m27.0 MB/s\u001b[0m eta \u001b[36m0:00:00\u001b[0m\n",
      "\u001b[?25hInstalling collected packages: dnspython, pymongo\n",
      "Successfully installed dnspython-2.3.0 pymongo-4.3.3\n",
      "Note: you may need to restart the kernel to use updated packages.\n"
     ]
    }
   ],
   "source": [
    "pip install pymongo"
   ]
  },
  {
   "cell_type": "code",
   "execution_count": 3,
   "id": "fa73ccbe-c96c-467d-b5e7-6a83598e4243",
   "metadata": {},
   "outputs": [],
   "source": [
    "import pymongo\n",
    "\n",
    "client = pymongo.MongoClient(\"mongodb://localhost:27017/\")\n",
    "\n",
    "mydb = client[\"mydatabase\"]\n",
    "\n",
    "mycol = mydb[\"customers\"]"
   ]
  },
  {
   "cell_type": "markdown",
   "id": "d3d91f9a-5e36-4355-8918-0668729b8259",
   "metadata": {},
   "source": [
    "### Q4. Using the database and the collection created in question number 3, write a code to insert one record, and insert many records. Use the find() and find_one() methods to print the inserted record."
   ]
  },
  {
   "cell_type": "code",
   "execution_count": null,
   "id": "ff372eb3-f68d-4e3a-ac74-1144a8f545b8",
   "metadata": {},
   "outputs": [],
   "source": [
    "# Insert one record\n",
    "\n",
    "from pymongo import MongoClient\n",
    "\n",
    "client = MongoClient()\n",
    "\n",
    "db = client['mydatabase']\n",
    "col = db['mycollection']\n",
    "\n",
    "myrecord = {\"name\": \"John\", \"address\": \"Highway 37\"}\n",
    "x = col.insert_one(myrecord)\n",
    "\n",
    "print(col.find_one({\"_id\": x.inserted_id}))"
   ]
  },
  {
   "cell_type": "code",
   "execution_count": null,
   "id": "de3d97ff-7d6b-415b-80e2-870b2dcb6393",
   "metadata": {},
   "outputs": [],
   "source": [
    "# import MongoClient from pymongo\n",
    "from pymongo import MongoClient\n",
    "\n",
    "# connect to MongoDB\n",
    "client = MongoClient()\n",
    "\n",
    "# select database and collection\n",
    "db = client['mydatabase']\n",
    "col = db['mycollection']\n",
    "\n",
    "# insert many records\n",
    "myrecords = [\n",
    "  {\"name\": \"Amy\", \"address\": \"Apple st 652\"},\n",
    "  {\"name\": \"Hannah\", \"address\": \"Mountain 21\"},\n",
    "  {\"name\": \"Michael\", \"address\": \"Valley 345\"},\n",
    "  {\"name\": \"Sandy\", \"address\": \"Ocean blvd 2\"},\n",
    "  {\"name\": \"Betty\", \"address\": \"Green Grass 1\"},\n",
    "  {\"name\": \"Richard\", \"address\": \"Sky st 331\"}\n",
    "]\n",
    "x = col.insert_many(myrecords)\n",
    "\n",
    "# print the inserted records\n",
    "for record in col.find():\n",
    "    print(record)\n"
   ]
  },
  {
   "cell_type": "markdown",
   "id": "8c0153fa-7b89-4947-afbe-00e14f2ae7e6",
   "metadata": {},
   "source": [
    "### Q5. Explain how you can use the find() method to query the MongoDB database. Write a simple code to demonstrate this.\n",
    "    The find() method takes a query object as an argument. The query object contains one or more key-value pairs that specify the criteria for selecting documents. The key represents the field to be queried, and the value represents the criteria to be matched."
   ]
  },
  {
   "cell_type": "code",
   "execution_count": null,
   "id": "3dfbddc5-1834-4eb9-acf4-4b877f876d6f",
   "metadata": {},
   "outputs": [],
   "source": [
    "# import MongoClient from pymongo\n",
    "from pymongo import MongoClient\n",
    "\n",
    "# connect to MongoDB\n",
    "client = MongoClient()\n",
    "\n",
    "# select database and collection\n",
    "db = client['mydatabase']\n",
    "col = db['mycollection']\n",
    "\n",
    "# define the query object\n",
    "\n",
    "query = {\"name\": {\"$gte\": \"Amy\"}}\n",
    "\n",
    "cursor = col.find(query)\n",
    "\n",
    "# iterate over the cursor and print each document\n",
    "for document in cursor:\n",
    "    print(document)"
   ]
  },
  {
   "cell_type": "markdown",
   "id": "d4728ab6-cb8b-4292-8620-ab1b1ebd0a06",
   "metadata": {},
   "source": [
    "### Q6. Explain the sort() method. Give an example to demonstrate sorting in MongoDB.\n",
    "    The sort() method in MongoDB is used to sort the query results in ascending or descending order based on one or more fields in the documents. The sort() method takes a dictionary with the field names and sorting order as key-value pairs. The value of 1 indicates ascending order, while -1 indicates descending order."
   ]
  },
  {
   "cell_type": "markdown",
   "id": "c738c233-b2fa-4fd8-b6cd-12056f69599c",
   "metadata": {},
   "source": [
    "### Q7. Explain why delete_one(), delete_many(), and drop() is used.\n",
    "    In MongoDB, delete_one() and delete_many() methods are used to delete one or many documents from a collection respectively, whereas drop() method is used to delete an entire collection.\n",
    "    \n",
    "    delete_one() is used when you want to delete only one document that matches a specific filter condition. For example, consider a collection named 'students' that contains documents of students. To delete the document of a student named 'John', you can use the following code:\n",
    "    db.students.delete_one({'name': 'john'})\n",
    "    \n",
    "    delete_many() is used when you want to delete multiple documents that match a specific filter condition. For example, consider the same collection 'students'. To delete all the students who have scored less than 60, you can use the following code:\n",
    "    db.students.delete_many({'score': {'$lt': 60}})\n",
    "    \n",
    "    drop() method is used when you want to delete an entire collection. For example, to delete the students collection, you can use the follwing code:\n",
    "    db.students.drop()"
   ]
  },
  {
   "cell_type": "code",
   "execution_count": null,
   "id": "49745856-80e8-4bca-a14f-05c6261058d2",
   "metadata": {},
   "outputs": [],
   "source": []
  }
 ],
 "metadata": {
  "kernelspec": {
   "display_name": "Python 3 (ipykernel)",
   "language": "python",
   "name": "python3"
  },
  "language_info": {
   "codemirror_mode": {
    "name": "ipython",
    "version": 3
   },
   "file_extension": ".py",
   "mimetype": "text/x-python",
   "name": "python",
   "nbconvert_exporter": "python",
   "pygments_lexer": "ipython3",
   "version": "3.10.8"
  }
 },
 "nbformat": 4,
 "nbformat_minor": 5
}
